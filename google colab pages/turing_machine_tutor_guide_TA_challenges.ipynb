{
  "nbformat": 4,
  "nbformat_minor": 0,
  "metadata": {
    "colab": {
      "provenance": []
    },
    "kernelspec": {
      "name": "python3",
      "display_name": "Python 3"
    },
    "language_info": {
      "name": "python"
    }
  },
  "cells": [
    {
      "cell_type": "markdown",
      "source": [
        "# **First Install Package From Github**"
      ],
      "metadata": {
        "id": "iDVfBQwTwiGN"
      }
    },
    {
      "cell_type": "code",
      "source": [
        "!pip install \"git+https://github.com/Turing-Machine-Tutor/Turing-Machine-Tutor.git@main\""
      ],
      "metadata": {
        "id": "w35U7KJEwkZW",
        "colab": {
          "base_uri": "https://localhost:8080/"
        },
        "outputId": "f5363d90-09e6-4de6-aa9d-19f8cbdcab37"
      },
      "execution_count": 1,
      "outputs": [
        {
          "output_type": "stream",
          "name": "stdout",
          "text": [
            "Collecting git+https://github.com/Turing-Machine-Tutor/Turing-Machine-Tutor.git@main\n",
            "  Cloning https://github.com/Turing-Machine-Tutor/Turing-Machine-Tutor.git (to revision main) to /tmp/pip-req-build-4ma2w6on\n",
            "  Running command git clone --filter=blob:none --quiet https://github.com/Turing-Machine-Tutor/Turing-Machine-Tutor.git /tmp/pip-req-build-4ma2w6on\n",
            "  Resolved https://github.com/Turing-Machine-Tutor/Turing-Machine-Tutor.git to commit ee5c330d5a1f191fecbd2920db0db0ac9d1f084f\n",
            "  Installing build dependencies ... \u001b[?25l\u001b[?25hdone\n",
            "  Getting requirements to build wheel ... \u001b[?25l\u001b[?25hdone\n",
            "  Preparing metadata (pyproject.toml) ... \u001b[?25l\u001b[?25hdone\n",
            "Building wheels for collected packages: TuringMachineLib\n",
            "  Building wheel for TuringMachineLib (pyproject.toml) ... \u001b[?25l\u001b[?25hdone\n",
            "  Created wheel for TuringMachineLib: filename=TuringMachineLib-0.0.0-py3-none-any.whl size=31318 sha256=ec44284abd9a4cf7db5bb0c520920d1d862e14d8021d9b57f6dff594b77f7095\n",
            "  Stored in directory: /tmp/pip-ephem-wheel-cache-fmox_jjt/wheels/11/ac/1c/4ee4716abcc30f9a20b7cfdc775beab548017b8f9ff87a5dc5\n",
            "Successfully built TuringMachineLib\n",
            "Installing collected packages: TuringMachineLib\n",
            "Successfully installed TuringMachineLib-0.0.0\n"
          ]
        }
      ]
    },
    {
      "cell_type": "markdown",
      "source": [
        "# **Imports: dont touch**"
      ],
      "metadata": {
        "id": "gAHmt2TUZQXQ"
      }
    },
    {
      "cell_type": "code",
      "execution_count": 5,
      "metadata": {
        "id": "cxy9bqf8ZOnF"
      },
      "outputs": [],
      "source": [
        "from turing_machine_tutor.TuringMachine import TuringMachine\n",
        "from turing_machine_tutor.CombinedTuringMachine import CombinedTuringMachine\n",
        "from turing_machine_tutor.machine_run_state import Machine_Run_State\n",
        "from turing_machine_tutor.next import next\n",
        "from turing_machine_tutor.IFTuringMachine import IFTuringMachine\n",
        "from turing_machine_tutor.TuringMachineController import TuringMachineController\n",
        "\n",
        "controller = TuringMachineController()"
      ]
    },
    {
      "cell_type": "markdown",
      "source": [
        "# **For teaching assistants**:"
      ],
      "metadata": {
        "id": "HC7J7GE3deDY"
      }
    },
    {
      "cell_type": "markdown",
      "source": [
        "Your main goal is just to add challenging turing machine languages,\n",
        "you will need to:\n",
        "\n",
        "\n",
        "1.   Give your language a proper name and save it in a string variable\n",
        "2.   Make a description of the language , and save it in a string variable\n",
        "3.   Define a boolean function (python programming language) that gets a word (string) as an input and returns:\n",
        "            True - If the given word is in the language\n",
        "\n",
        "            False - If the given word is not in the language\n",
        "\n",
        "            def my_function(word:string): boolean :\n",
        "\n",
        "            ....\n",
        "\n",
        "            ....\n",
        "\n",
        "            return true/false\n",
        "4. Make a list of edge cases words (optional , you may pass empty list)\n",
        "\n",
        "\n",
        "Pass all these variables to the controller, using the function add_challenge\n",
        "\n",
        "For example:\n",
        "\n",
        "I am a teaching assistans and I am willing to add a challenge for the language 0^n 1^n, I will do the following code."
      ],
      "metadata": {
        "id": "piYt_7Cha3XT"
      }
    },
    {
      "cell_type": "code",
      "source": [
        "turing_machine_name=\"0n1n\"\n",
        "description=\"turing machine that accepts 0n1n\"\n",
        "\n",
        "##now the part of defining a function.\n",
        "def is_0n1n(s):\n",
        "    if(len(s) < 2):\n",
        "        return False\n",
        "    elif(len(s) == 2 and s != \"01\"):\n",
        "        return False\n",
        "    elif(len(s) == 2 and s == \"01\"):\n",
        "        return True\n",
        "    st = s.split('01')\n",
        "    if(len(st) != 2):\n",
        "        return False\n",
        "    if(len(st[0]) != len(st[1])):\n",
        "        return False\n",
        "    for i in st[0]:\n",
        "        if i != '0':\n",
        "            return False\n",
        "    for i in st[1]:\n",
        "        if i != '1':\n",
        "            return False\n",
        "    return True\n",
        "\n",
        "edge_case_list={\"0011\",\"01\",\"0000000000000\",\"some_random_stuff\"}\n",
        "input_alphabet = {'0','1'}\n",
        "##if you don't want to add edge_list just do:    edge_case_list={}\n",
        "\n",
        "#final part , add the challenge to the system:\n",
        "\n",
        "controller.add_challenge(turing_machine_name, input_alphabet, description,is_0n1n,edge_case_list);\n"
      ],
      "metadata": {
        "id": "3K473X7eaAuQ"
      },
      "execution_count": 6,
      "outputs": []
    },
    {
      "cell_type": "code",
      "source": [
        "turing_machine_name=\"wordword\"\n",
        "description=\"turing machine that accepts ww\"\n",
        "\n",
        "##now the part of defining a function.\n",
        "def is_wordword(txt):\n",
        "  l = len(txt)\n",
        "  if l%2 == 1:\n",
        "      return False\n",
        "  h = l//2\n",
        "  left=txt[:h]\n",
        "  right=txt[h:]\n",
        "  if left==right:\n",
        "    return True\n",
        "  else:\n",
        "    return False\n",
        "\n",
        "edge_case_list={\"abab\",\"bb\", \"a\", \"abcab\",\"abcaba\"}\n",
        "input_alphabet = {'a','b', 'c'}\n",
        "controller.add_challenge(turing_machine_name, input_alphabet,description,is_wordword,edge_case_list);"
      ],
      "metadata": {
        "id": "bWnII38YuPgk"
      },
      "execution_count": 7,
      "outputs": []
    },
    {
      "cell_type": "code",
      "source": [
        "turing_machine_name=\"wDw\"\n",
        "description=\"turing machine that accepts w$w for w over the alphabet {a,b}\"\n",
        "\n",
        "##now the part of defining a function.\n",
        "def is_wDw(txt):\n",
        "  l = len(txt)\n",
        "  if l%2 == 0:\n",
        "      return False\n",
        "  h = l//2\n",
        "  for i in range(l):\n",
        "      if i == h:\n",
        "          if txt[i] != '$':\n",
        "            return  False\n",
        "      elif txt[i] != 'a' and txt[i] != 'b':\n",
        "            return False\n",
        "  left=txt[:h]\n",
        "  right=txt[h+1:]\n",
        "  if left==right:\n",
        "    return True\n",
        "  else:\n",
        "    return False\n",
        "\n",
        "lst = {\"ab$ab\", \"bb$b\", \"$\", \"abb$ab\",\"ab$abb\", \"abc$abc\", \"$$$\", \"a$bbb$a$bbb\"}\n",
        "for i in lst:\n",
        "    print(i,is_wDw(i))\n",
        "\n",
        "edge_case_list={\"ab$ab\", \"bb$b\", \"$\", \"abb$ab\",\"ab$abb\", \"abc$abc\", \"$$$\", \"a$bbb$a$bbb\"}\n",
        "input_alphabet = {'a', 'b', '$'}\n",
        "controller.add_challenge(turing_machine_name, input_alphabet,description,is_wDw,edge_case_list);"
      ],
      "metadata": {
        "colab": {
          "base_uri": "https://localhost:8080/"
        },
        "id": "iOXX0Vk6ufWL",
        "outputId": "18e96534-ad58-40c6-8631-23ce80249129"
      },
      "execution_count": 8,
      "outputs": [
        {
          "output_type": "stream",
          "name": "stdout",
          "text": [
            "$ True\n",
            "abb$ab False\n",
            "ab$abb False\n",
            "ab$ab True\n",
            "bb$b False\n",
            "a$bbb$a$bbb False\n",
            "abc$abc False\n",
            "$$$ False\n"
          ]
        }
      ]
    },
    {
      "cell_type": "code",
      "source": [
        "# Note: MustPass must include only word the challenge's function return True on them, if not then it will raise an exception, the same for MustFail\n",
        "controller.challenges[\"wDw\"].MustPass({\"$\", \"ab$ab\"})\n",
        "\n",
        "controller.challenges[\"wDw\"].MustFail({\"$$$\", \"bb$b\", \"ab$abb\", \"abc$abc\", \"a$bbb$a$bbb\"})"
      ],
      "metadata": {
        "id": "co0RRg8XVX6j"
      },
      "execution_count": 12,
      "outputs": []
    },
    {
      "cell_type": "code",
      "source": [
        "turing_machine_name=\"successor\"\n",
        "description=\"TM that given two binary strings w1 and w2 representing naturals n1 and n2 return True if n2=n1+1. Technically, we assume that the strigns are given in an interleaved fashion, one bit of the first, one of the second and a delimiter (#). Formally, the TM accepts strings over {0,1,#} where every third letter is # (and others are 0 or 1) and if w1 is the word obtained by concatenating all positions that are 1 modulo 3, and  w2 is the word obtained by concatenating all positions that are 2 modulo 3, and n1,n2 are the natural numbers enccoded by the binary strings w1 and w2, respectively, then n2=n1+1. For instance if the input is 11#00#11#01 then w1=1010 and w2=1011, n1=10, n2=11 so the string is in the accepted.\"\n",
        "\n",
        "\n",
        "def is_successor(txt):\n",
        "  l = len(txt)\n",
        "  if l%3 != 0:\n",
        "      return False\n",
        "  w1 = ''\n",
        "  w2 = ''\n",
        "  for i in range(l):\n",
        "      if i%3 == 0:\n",
        "          if txt[i] != '0' and txt[i] != '1':\n",
        "              return False\n",
        "          w1 += txt[i]\n",
        "      if i%3 == 1:\n",
        "          if txt[i] != '0' and txt[i] != '1':\n",
        "              return False\n",
        "          w2 += txt[i]\n",
        "      if i%3 == 2:\n",
        "          if txt[i] != '#':\n",
        "              return False\n",
        "  n1=int(w1,2)\n",
        "  n2=int(w2,2)\n",
        "  print(w1,w2,n1,n2)\n",
        "  if n2==n1+1:\n",
        "        return True\n",
        "  return False\n",
        "  input_alphabet = {'0', '1', '#'}\n",
        "  edge_case_list={\"11#00#11#01#\", \"11#00#11#00#\", \"11#00#11#10#\", \"11#00#11##01#\", \"01#\", \"01#10#10#\"}\n",
        "  controller.add_challenge(turing_machine_name, input_alphabet, description,is_successor,edge_case_list);"
      ],
      "metadata": {
        "id": "sYef4X2cNHIr"
      },
      "execution_count": 13,
      "outputs": []
    },
    {
      "cell_type": "code",
      "source": [
        "turing_machine_name=\"a2n_bn\"\n",
        "description=\"turing machine that accepts a^{2n}b^{n} for any natural number n\"\n",
        "\n",
        "def is_a2n__bn(txt):\n",
        "  l = len(txt)\n",
        "  if l%3 != 0:\n",
        "      return False\n",
        "  h = l//3\n",
        "  left=txt[:2*h]\n",
        "  right=txt[2*h:]\n",
        "  for i in range(len(left)):\n",
        "      if left[i] != 'a':\n",
        "        return False\n",
        "  for i in range(len(right)):\n",
        "      if right[i] != 'b':\n",
        "        return False\n",
        "  return True\n",
        "\n",
        "edge_case_list={ \"aaaabb\", \"aab\", \"ab\", \"baa\", \"aab\", \"bbbbaa\" }\n",
        "input_alphabet = {'a', 'b'}\n",
        "controller.add_challenge(turing_machine_name,input_alphabet, description,is_a2n__bn,edge_case_list);"
      ],
      "metadata": {
        "id": "_9xpZ6OW29Gn"
      },
      "execution_count": 15,
      "outputs": []
    }
  ]
}