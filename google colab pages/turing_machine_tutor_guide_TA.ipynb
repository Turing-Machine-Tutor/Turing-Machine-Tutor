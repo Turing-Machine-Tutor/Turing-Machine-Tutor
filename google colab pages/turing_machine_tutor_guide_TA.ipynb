{
  "cells": [
    {
      "cell_type": "markdown",
      "metadata": {
        "id": "iDVfBQwTwiGN"
      },
      "source": [
        "# **First Install Package From Github**"
      ]
    },
    {
      "cell_type": "code",
      "execution_count": null,
      "metadata": {
        "id": "w35U7KJEwkZW"
      },
      "outputs": [],
      "source": [
        "!pip install \"git+https://github.com/Turing-Machine-Tutor/Turing-Machine-Tutor.git@main\""
      ]
    },
    {
      "cell_type": "markdown",
      "metadata": {
        "id": "gAHmt2TUZQXQ"
      },
      "source": [
        "# **Imports: dont touch**"
      ]
    },
    {
      "cell_type": "code",
      "execution_count": null,
      "metadata": {
        "id": "cxy9bqf8ZOnF"
      },
      "outputs": [],
      "source": [
        "from turing_machine_tutor.TuringMachine import TuringMachine\n",
        "from turing_machine_tutor.CombinedTuringMachine import CombinedTuringMachine\n",
        "from turing_machine_tutor.machine_run_state import Machine_Run_State\n",
        "from turing_machine_tutor.next import next\n",
        "from turing_machine_tutor.IFTuringMachine import IFTuringMachine\n",
        "from turing_machine_tutor.TuringMachineController import TuringMachineController\n",
        "\n",
        "controller = TuringMachineController()"
      ]
    },
    {
      "cell_type": "markdown",
      "metadata": {
        "id": "HC7J7GE3deDY"
      },
      "source": [
        "# **For teaching assistants**:"
      ]
    },
    {
      "cell_type": "markdown",
      "metadata": {
        "id": "piYt_7Cha3XT"
      },
      "source": [
        "Your main goal is just to add challenging turing machine languages,\n",
        "you will need to:\n",
        "\n",
        "\n",
        "1.   Give your language a proper name and save it in a string variable\n",
        "2.   Make a description of the language , and save it in a string variable\n",
        "3.   Define a boolean function (python programming language) that gets a word (string) as an input and returns:\n",
        "            True - If the given word is in the language\n",
        "\n",
        "            False - If the given word is not in the language\n",
        "\n",
        "            def my_function(word:string): boolean :\n",
        "\n",
        "            ....\n",
        "\n",
        "            ....\n",
        "\n",
        "            return true/false\n",
        "4. Make a list of edge cases words (optional , you may pass empty list)\n",
        "\n",
        "\n",
        "Pass all these variables to the controller, using the function add_challenge\n",
        "\n",
        "For example:\n",
        "\n",
        "I am a teaching assistans and I am willing to add a challenge for the language 0^n 1^n, I will do the following code."
      ]
    },
    {
      "cell_type": "code",
      "execution_count": null,
      "metadata": {
        "id": "3K473X7eaAuQ"
      },
      "outputs": [],
      "source": [
        "turing_machine_name=\"0n1n\"\n",
        "description=\"turing machine that accepts 0n1n\"\n",
        "\n",
        "##now the part of defining a function.\n",
        "def is_0n1n(s):\n",
        "    if(len(s) < 2):\n",
        "        return False\n",
        "    elif(len(s) == 2 and s != \"01\"):\n",
        "        return False\n",
        "    elif(len(s) == 2 and s == \"01\"):\n",
        "        return True\n",
        "    st = s.split('01')\n",
        "    if(len(st) != 2):\n",
        "        return False\n",
        "    if(len(st[0]) != len(st[1])):\n",
        "        return False\n",
        "    for i in st[0]:\n",
        "        if i != '0':\n",
        "            return False\n",
        "    for i in st[1]:\n",
        "        if i != '1':\n",
        "            return False\n",
        "    return True\n",
        "\n",
        "edge_case_list={\"0011\",\"01\",\"0000000000000\",\"some_random_stuff\"}\n",
        "input_alphabet = {'0', '1'}\n",
        "##if you don't want to add edge_list just do:    edge_case_list={}\n",
        "\n",
        "#final part , add the challenge to the system:\n",
        "\n",
        "controller.add_challenge(turing_machine_name, input_alphabet,description,is_0n1n,edge_case_list);\n"
      ]
    }
  ],
  "metadata": {
    "colab": {
      "provenance": []
    },
    "kernelspec": {
      "display_name": "Python 3",
      "name": "python3"
    },
    "language_info": {
      "name": "python"
    }
  },
  "nbformat": 4,
  "nbformat_minor": 0
}
