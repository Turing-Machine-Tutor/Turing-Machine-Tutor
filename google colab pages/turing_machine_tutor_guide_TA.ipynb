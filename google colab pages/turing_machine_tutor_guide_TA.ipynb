{
  "cells": [
    {
      "cell_type": "markdown",
      "metadata": {
        "id": "iDVfBQwTwiGN"
      },
      "source": [
        "# **First Install Package From Github**"
      ]
    },
    {
      "cell_type": "code",
      "execution_count": null,
      "metadata": {
        "id": "w35U7KJEwkZW",
        "colab": {
          "base_uri": "https://localhost:8080/"
        },
        "outputId": "45f5c567-37f5-4320-b9bf-e3a3c5dbd350"
      },
      "outputs": [
        {
          "output_type": "stream",
          "name": "stdout",
          "text": [
            "Collecting git+https://github.com/Turing-Machine-Tutor/Turing-Machine-Tutor.git@multiTape_controller#egg\n",
            "  Cloning https://github.com/Turing-Machine-Tutor/Turing-Machine-Tutor.git (to revision multiTape_controller) to /tmp/pip-req-build-t1jjk0wp\n",
            "  Running command git clone --filter=blob:none --quiet https://github.com/Turing-Machine-Tutor/Turing-Machine-Tutor.git /tmp/pip-req-build-t1jjk0wp\n",
            "  Running command git checkout -b multiTape_controller --track origin/multiTape_controller\n",
            "  Switched to a new branch 'multiTape_controller'\n",
            "  Branch 'multiTape_controller' set up to track remote branch 'multiTape_controller' from 'origin'.\n",
            "  Resolved https://github.com/Turing-Machine-Tutor/Turing-Machine-Tutor.git to commit 74aae3ce7255b952f3e439a390ffe09c15bd0f95\n",
            "  Installing build dependencies ... \u001b[?25l\u001b[?25hdone\n",
            "  Getting requirements to build wheel ... \u001b[?25l\u001b[?25hdone\n",
            "  Preparing metadata (pyproject.toml) ... \u001b[?25l\u001b[?25hdone\n",
            "Building wheels for collected packages: TuringMachineLib\n",
            "  Building wheel for TuringMachineLib (pyproject.toml) ... \u001b[?25l\u001b[?25hdone\n",
            "  Created wheel for TuringMachineLib: filename=TuringMachineLib-0.0.0-py3-none-any.whl size=41273 sha256=120ca579e046783bed85aacdad7fd3a06fc3efeaac53063fb91fffd149426dc8\n",
            "  Stored in directory: /tmp/pip-ephem-wheel-cache-huem7844/wheels/40/1f/f7/e83ac979be33902a2ea412d6a74bae4407e89e67d6e1b81e1b\n",
            "Successfully built TuringMachineLib\n",
            "Installing collected packages: TuringMachineLib\n",
            "Successfully installed TuringMachineLib-0.0.0\n"
          ]
        }
      ],
      "source": [
        "!pip install \"git+https://github.com/Turing-Machine-Tutor/Turing-Machine-Tutor.git@main\""
      ]
    },
    {
      "cell_type": "markdown",
      "metadata": {
        "id": "gAHmt2TUZQXQ"
      },
      "source": [
        "# **Imports: dont touch**"
      ]
    },
    {
      "cell_type": "code",
      "execution_count": null,
      "metadata": {
        "id": "cxy9bqf8ZOnF"
      },
      "outputs": [],
      "source": [
        "from turing_machine_tutor.TuringMachine import TuringMachine\n",
        "from turing_machine_tutor.CombinedTuringMachine import CombinedTuringMachine\n",
        "from turing_machine_tutor.machine_run_state import Machine_Run_State\n",
        "from turing_machine_tutor.Next import Next\n",
        "from turing_machine_tutor.MultiNext import MultiNext\n",
        "from turing_machine_tutor.Call_Turing_Machine import Call_Turing_Machine\n",
        "from turing_machine_tutor.IFTuringMachine import IFTuringMachine\n",
        "from turing_machine_tutor.TuringMachineController import TuringMachineController\n",
        "from turing_machine_tutor.MultiTapeTuringMachine import MultiTapeTuringMachine\n",
        "from turing_machine_tutor.WhileTuringMachine import WhileTuringMachine\n",
        "from turing_machine_tutor.ConcatenateTM import ConcatenateTM\n",
        "\n",
        "controller = TuringMachineController()"
      ]
    },
    {
      "cell_type": "markdown",
      "metadata": {
        "id": "HC7J7GE3deDY"
      },
      "source": [
        "# **For teaching assistants**:"
      ]
    },
    {
      "cell_type": "markdown",
      "metadata": {
        "id": "piYt_7Cha3XT"
      },
      "source": [
        "Your main goal is just to add challenging turing machine languages,\n",
        "you will need to:\n",
        "\n",
        "\n",
        "1.   Give your language a proper name and save it in a string variable\n",
        "2.   Make a description of the language , and save it in a string variable\n",
        "3.1   Define a boolean function (python programming language) that gets a word (string) as an input and returns:\n",
        "            True - If the given word is in the language\n",
        "\n",
        "            False - If the given word is not in the language\n",
        "\n",
        "            def my_function(word:string): boolean :\n",
        "\n",
        "            ....\n",
        "\n",
        "            ....\n",
        "\n",
        "            return true/false\n",
        "  3.2. Or you can Define a string function Similar to the boolean function that get a word (string) as an input and returns a string.\n",
        "4. Make a list of edge cases words (optional , you may pass empty list)\n",
        "5. (Optional) after you have added the Challenge to the Controller you can set MustPass a list of tuples and MustFail a list of tuples each tuple is (input_str, output_result(could be str or boolean depending on your function)\n",
        "\n",
        "Pass all these variables to the controller, using the function add_challenge\n"
      ]
    },
    {
      "cell_type": "markdown",
      "source": [
        "# Example 1: string -> boolean function , for the lanuage : $0^n 1^n$"
      ],
      "metadata": {
        "id": "30ifebLxusiC"
      }
    },
    {
      "cell_type": "code",
      "execution_count": null,
      "metadata": {
        "id": "3K473X7eaAuQ"
      },
      "outputs": [],
      "source": [
        "turing_machine_name=\"0n1n\"\n",
        "description=\"turing machine that accepts 0n1n\"\n",
        "\n",
        "##now the part of defining a function.\n",
        "def is_0n1n(s):\n",
        "    if(len(s) < 2):\n",
        "        return False\n",
        "    elif(len(s) == 2 and s != \"01\"):\n",
        "        return False\n",
        "    elif(len(s) == 2 and s == \"01\"):\n",
        "        return True\n",
        "    st = s.split('01')\n",
        "    if(len(st) != 2):\n",
        "        return False\n",
        "    if(len(st[0]) != len(st[1])):\n",
        "        return False\n",
        "    for i in st[0]:\n",
        "        if i != '0':\n",
        "            return False\n",
        "    for i in st[1]:\n",
        "        if i != '1':\n",
        "            return False\n",
        "    return True\n",
        "\n",
        "edge_case_list={\"0011\",\"01\",\"0000000000000\"}\n",
        "input_alphabet = {'0', '1'}\n",
        "##if you don't want to add edge_list just do:    edge_case_list={}\n",
        "\n",
        "#final part , add the challenge to the system:\n",
        "\n",
        "controller.add_challenge(turing_machine_name, input_alphabet,description,is_0n1n,edge_case_list);\n"
      ]
    },
    {
      "cell_type": "code",
      "source": [
        "controller.challenges[turing_machine_name].MustPass([(\"000111\",True) , (\"00001111\", True)])\n",
        "controller.challenges[turing_machine_name].MustFail([(\"00011\",False) , (\"1100\", False)])"
      ],
      "metadata": {
        "id": "bTqko45Etl0g"
      },
      "execution_count": null,
      "outputs": []
    },
    {
      "cell_type": "markdown",
      "source": [
        "# Example 2: string -> string function"
      ],
      "metadata": {
        "id": "goZ5Wak2uksk"
      }
    },
    {
      "cell_type": "code",
      "source": [
        "turing_machine_name=\"replaceBin\"\n",
        "description=\"turing machine that replaces every 0 with 1 and every 1 with 0\"\n",
        "\n",
        "def binReplaceFunc(bin_str):\n",
        "    res = \"\"\n",
        "    if(bin_str == \"\"):\n",
        "        return \"\"\n",
        "    for x in bin_str:\n",
        "        if x == \"1\":\n",
        "            res += '0'\n",
        "        elif x == \"0\":\n",
        "            res += '1'\n",
        "    return res\n",
        "edge_case_list={\"0011\",\"01\",\"0000000000000\"}\n",
        "input_alphabet = {'0', '1'}\n",
        "\n",
        "controller.add_challenge(turing_machine_name, {'0','1'}, description, binReplaceFunc, {\"111\"})"
      ],
      "metadata": {
        "id": "iNEuyWMKuoEp"
      },
      "execution_count": null,
      "outputs": []
    },
    {
      "cell_type": "code",
      "source": [
        "controller.challenges[turing_machine_name].MustPass([(\"000\",\"111\"), (\"001\",\"110\") , (\"000111000\", \"111000111\")])\n"
      ],
      "metadata": {
        "id": "zBP8EobuvNxO"
      },
      "execution_count": null,
      "outputs": []
    },
    {
      "cell_type": "markdown",
      "source": [
        "After defining the challenges in the google colab page, also add them to a google sheet exactly in this format (including the headers exactly as they are written - just copy paste it)\n",
        "link to google sheet of challenges:\n",
        "https://docs.google.com/spreadsheets/d/1FKfhOGBBbd1LYghmdN4uFiSbuNdkhz3gtkE1OyEhfv4/edit?usp=sharing\n",
        "\n",
        "***important note about the function:***\n",
        "after you have validated that it works as it should on python\n",
        "copy it as it is with all the tabs and paste it in the 'function' column\n",
        "\n",
        "this sheet is mandatory to execute the command validate_submissions , which will be explained later.\n",
        "\n",
        "\n",
        "**<font color='blue'> we will provide you the acutal link for the actual sheet in mail.</font>**\n",
        "\n",
        "<font color='red'>please ***DO NOT*** share the link with the students it must stay hidden.</font>"
      ],
      "metadata": {
        "id": "XPrM-7xp89Hb"
      }
    },
    {
      "cell_type": "markdown",
      "source": [
        "# **Previewing Submissions:**"
      ],
      "metadata": {
        "id": "xcmKQg1Z4nAS"
      }
    },
    {
      "cell_type": "markdown",
      "source": [
        "When students submit thier machines, a google sheet (that only the TAs has access to it) will be updated, each row will be like this:\n",
        " ```\n",
        "<ID> <Date and time> <TM_1 name> <TM_1 object in a string> <Passed/Failed> <TM_2 name> <TM_2 object in a string> <Passed/Failed> ...\n",
        "```\n",
        "You can find google sheet example by clicking on this link:\n",
        "https://docs.google.com/spreadsheets/d/1INiyIE1X9eWTc4ZdxCbiy6hFGpPp64hR3q6L-IPN8Qk/edit?usp=sharing\n",
        "\n"
      ],
      "metadata": {
        "id": "vImJCqcg4x53"
      }
    },
    {
      "cell_type": "markdown",
      "source": [
        "# **BUT**"
      ],
      "metadata": {
        "id": "TQNuTfdc8C0y"
      }
    },
    {
      "cell_type": "markdown",
      "source": [
        "because students can see the challenge and the functions, they migh exploit this and cheat, so We STROGNLY recommend for you to execute the function validate_submissions , it has a summary of the submissions it is in this format:\n",
        "\n",
        "```\n",
        "<ID> <TM_1 name> <Passed/Failed> <TM_2 name> <Passed/Failed>....\n",
        "```\n",
        "only the TAs has access to this sheet, and it has the actual results, because it was ran and checked on the original challenges that the TAs has written in the sheet that we mentioned before.(this one https://www.google.com/url?q=https%3A%2F%2Fdocs.google.com%2Fspreadsheets%2Fd%2F1FKfhOGBBbd1LYghmdN4uFiSbuNdkhz3gtkE1OyEhfv4%2Fedit%3Fusp%3Dsharing)\n",
        "\n",
        "**<font color='blue'> we will provide you the link for the valid submission sheet in mail.</font>**\n"
      ],
      "metadata": {
        "id": "WZKNbLvp8qZs"
      }
    }
  ],
  "metadata": {
    "colab": {
      "provenance": []
    },
    "kernelspec": {
      "display_name": "Python 3",
      "name": "python3"
    },
    "language_info": {
      "name": "python"
    }
  },
  "nbformat": 4,
  "nbformat_minor": 0
}