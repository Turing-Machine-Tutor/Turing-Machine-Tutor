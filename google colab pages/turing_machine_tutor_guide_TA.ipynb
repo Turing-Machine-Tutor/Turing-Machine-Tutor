{
  "nbformat": 4,
  "nbformat_minor": 0,
  "metadata": {
    "colab": {
      "provenance": [],
      "toc_visible": true
    },
    "kernelspec": {
      "name": "python3",
      "display_name": "Python 3"
    },
    "language_info": {
      "name": "python"
    }
  },
  "cells": [
    {
      "cell_type": "markdown",
      "source": [
        "# **First Install Package From Github**"
      ],
      "metadata": {
        "id": "iDVfBQwTwiGN"
      }
    },
    {
      "cell_type": "code",
      "source": [
        "!pip install \"git+https://github.com/Turing-Machine-Tutor/Turing-Machine-Tutor.git@main\""
      ],
      "metadata": {
        "id": "w35U7KJEwkZW"
      },
      "execution_count": null,
      "outputs": []
    },
    {
      "cell_type": "markdown",
      "source": [
        "# **Imports: dont touch**"
      ],
      "metadata": {
        "id": "gAHmt2TUZQXQ"
      }
    },
    {
      "cell_type": "code",
      "execution_count": null,
      "metadata": {
        "id": "cxy9bqf8ZOnF"
      },
      "outputs": [],
      "source": [
        "from turing_machine_tutor.TuringMachine import TuringMachine\n",
        "from turing_machine_tutor.CombinedTuringMachine import CombinedTuringMachine\n",
        "from turing_machine_tutor.machine_run_state import Machine_Run_State\n",
        "from turing_machine_tutor.configuration import Configuration\n",
        "from turing_machine_tutor.IFTuringMachine import IFTuringMachine\n",
        "from turing_machine_tutor.TuringMachineController import TuringMachineController\n",
        "\n",
        "controller = TuringMachineController()"
      ]
    },
    {
      "cell_type": "markdown",
      "source": [
        "# **For teaching assistants**:"
      ],
      "metadata": {
        "id": "HC7J7GE3deDY"
      }
    },
    {
      "cell_type": "markdown",
      "source": [
        "Your main goal is just to add challenging turing machine languages,\n",
        "you will need to:\n",
        "\n",
        "\n",
        "1.   Give your language a proper name and save it in a string variable\n",
        "2.   Make a description of the language , and save it in a string variable\n",
        "3.   Define a boolean function (python programming language) that gets a word (string) as an input and returns:\n",
        "            True - If the given word is in the language\n",
        "\n",
        "            False - If the given word is not in the language\n",
        "\n",
        "            def my_function(word:string): boolean :\n",
        "\n",
        "            ....\n",
        "\n",
        "            ....\n",
        "\n",
        "            return true/false\n",
        "4. Make a list of edge cases words (optional , you may pass empty list)\n",
        "\n",
        "\n",
        "Pass all these variables to the controller, using the function add_challenge\n",
        "\n",
        "For example:\n",
        "\n",
        "I am a teaching assistans and I am willing to add a challenge for the language 0^n 1^n, I will do the following code."
      ],
      "metadata": {
        "id": "piYt_7Cha3XT"
      }
    },
    {
      "cell_type": "code",
      "source": [
        "turing_machine_name=\"0n1n\"\n",
        "description=\"turing machine that accepts 0n1n\"\n",
        "\n",
        "##now the part of defining a function.\n",
        "def is_0n1n(s):\n",
        "    if(len(s) < 2):\n",
        "        return False\n",
        "    elif(len(s) == 2 and s != \"01\"):\n",
        "        return False\n",
        "    elif(len(s) == 2 and s == \"01\"):\n",
        "        return True\n",
        "    st = s.split('01')\n",
        "    if(len(st) != 2):\n",
        "        return False\n",
        "    if(len(st[0]) != len(st[1])):\n",
        "        return False\n",
        "    for i in st[0]:\n",
        "        if i != '0':\n",
        "            return False\n",
        "    for i in st[1]:\n",
        "        if i != '1':\n",
        "            return False\n",
        "    return True\n",
        "\n",
        "edge_case_list={\"0011\",\"01\",\"0000000000000\",\"some_random_stuff\"}\n",
        "\n",
        "##if you don't want to add edge_list just do:    edge_case_list={}\n",
        "\n",
        "#final part , add the challenge to the system:\n",
        "\n",
        "controller.add_challenge(turing_machine_name,description,is_anbn,edge_case_list);\n"
      ],
      "metadata": {
        "id": "3K473X7eaAuQ"
      },
      "execution_count": null,
      "outputs": []
    }
  ]
}