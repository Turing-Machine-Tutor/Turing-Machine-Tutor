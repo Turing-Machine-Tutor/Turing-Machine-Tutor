{
  "nbformat": 4,
  "nbformat_minor": 0,
  "metadata": {
    "colab": {
      "provenance": [],
      "toc_visible": true
    },
    "kernelspec": {
      "name": "python3",
      "display_name": "Python 3"
    },
    "language_info": {
      "name": "python"
    }
  },
  "cells": [
    {
      "cell_type": "markdown",
      "source": [
        "# **Imports: dont touch**"
      ],
      "metadata": {
        "id": "gAHmt2TUZQXQ"
      }
    },
    {
      "cell_type": "code",
      "execution_count": null,
      "metadata": {
        "id": "cxy9bqf8ZOnF"
      },
      "outputs": [],
      "source": [
        "import TuringMachingLibrary as turLib\n",
        "\n",
        "controller = TuringMachinController()"
      ]
    },
    {
      "cell_type": "markdown",
      "source": [
        "# **For teaching assistants**:"
      ],
      "metadata": {
        "id": "HC7J7GE3deDY"
      }
    },
    {
      "cell_type": "markdown",
      "source": [
        "your main goal is just to add challenging turing machine languages,\n",
        "you will need to:\n",
        "\n",
        "1) give your language a proper name and save it in a string variable\n",
        "\n",
        "2) make a description of the language , and save it in a string variable\n",
        "\n",
        "3)define a boolean function (python programming language) that gets a word (string) as an input and returns:\n",
        "\n",
        "true - if the given word is in the language\n",
        "\n",
        "false - if the given word is not in the language\n",
        "\n",
        "def my_function(word:string): boolean :\n",
        "\n",
        "....\n",
        "\n",
        "....\n",
        "\n",
        "return true/false\n",
        "\n",
        "\n",
        "\n",
        "4) make a list of edge cases words (optional , you may pass empty list)\n",
        "\n",
        "pass all these variables to the controller, using the function add_challenge\n",
        "\n",
        "for example:\n",
        "\n",
        "i am a teaching assistans and i am willing to add a challenge for the language a^n b^n, i will do the following code."
      ],
      "metadata": {
        "id": "piYt_7Cha3XT"
      }
    },
    {
      "cell_type": "code",
      "source": [
        "turing_machine_name=\"anbn\"\n",
        "description=\"turing machine that accepts anbn\"\n",
        "\n",
        "##now the part of defining a function.\n",
        "def is_anbn(input_str):\n",
        "    stack = []\n",
        "\n",
        "    for symbol in input_str:\n",
        "        if symbol == 'a':\n",
        "            stack.append('a')\n",
        "        elif symbol == 'b':\n",
        "            if not stack:\n",
        "                return False  # There are more 'b's than 'a's\n",
        "            stack.pop()\n",
        "        else:\n",
        "            return False  # Invalid symbol\n",
        "\n",
        "    return not stack\n",
        "\n",
        "edge_case_list={\"aabb\",\"ab\",\"aaaaaaaaaaa\",\"some_random_stuff\"}\n",
        "\n",
        "##if you don't want to add edge_list just do:    edge_case_list={}\n",
        "\n",
        "#final part , add the challenge to the system:\n",
        "\n",
        "controller.add_challenge(turing_machine_name,description,is_anbn,edge_case_list);\n"
      ],
      "metadata": {
        "id": "3K473X7eaAuQ"
      },
      "execution_count": null,
      "outputs": []
    },
    {
      "cell_type": "markdown",
      "source": [
        "# **For student**:"
      ],
      "metadata": {
        "id": "SdAlr7eKdTfc"
      }
    },
    {
      "cell_type": "markdown",
      "source": [
        "your main goal viewing all the availabe challenges and choosing one to work on.\n",
        "\n",
        "\n",
        "## **Create a turing**:\n",
        "Create a turing machin that implement the language the teacher define previously."
      ],
      "metadata": {
        "id": "zyJ5-YSCbnXE"
      }
    },
    {
      "cell_type": "code",
      "source": [
        "tmName1 = \"Name of your TM\"#change it\n",
        "controller.add(\n",
        "    tmName1,\n",
        "    TuringMachine(\n",
        "    states={\"\",\"\"},\n",
        "    input_alphabet={\"\",\"\"},\n",
        "    tape_symbols={\"\",\"\"},\n",
        "    blank='B',\n",
        "    transitions={\n",
        "        #Example: ('q0', '0'): Configuration('q1', 'X', 'R'),  # Move right and replace 0 with X\n",
        "    },\n",
        "    initial_state='q0',\n",
        "    accept_states={''},\n",
        "    reject_states={''}\n",
        ")\n",
        ")"
      ],
      "metadata": {
        "id": "QRDOdjUrcNx-"
      },
      "execution_count": null,
      "outputs": []
    },
    {
      "cell_type": "markdown",
      "source": [
        "## Check your TM."
      ],
      "metadata": {
        "id": "GgNlSFCgc8iB"
      }
    },
    {
      "cell_type": "markdown",
      "source": [
        "### Run\n",
        "Run- will show you the state of your TM at the end of its run on a word of your choise."
      ],
      "metadata": {
        "id": "fAQQgfs8fz8R"
      }
    },
    {
      "cell_type": "code",
      "source": [
        "\n",
        "\n",
        "word = \"\" # insert a world you would like to check your TM on.\n",
        "machinState=controller.run({tmName1},word)\n",
        "controller.printState(machinState)\n",
        "\n",
        "#should print something like that\n",
        "\"\"\"\n",
        "+tape: list< string>\n",
        "+head_position : int\n",
        "+state : string\n",
        "\n",
        "\"\"\""
      ],
      "metadata": {
        "id": "Nrx3_8GVdka7"
      },
      "execution_count": null,
      "outputs": []
    },
    {
      "cell_type": "markdown",
      "source": [
        "### visualize\n",
        "visualize- will ...TODO"
      ],
      "metadata": {
        "id": "jlN3_AfHlUI_"
      }
    },
    {
      "cell_type": "code",
      "source": [
        "\"\"\"+visualize(Turing_machine_name:string, input:string):void\"\"\"\n",
        "\n",
        "word = \"\" # insert a world you would like to check your TM on.\n",
        "controler.visualize({tmName1},word)\n"
      ],
      "metadata": {
        "id": "xgQ6h4MClS1a"
      },
      "execution_count": null,
      "outputs": []
    },
    {
      "cell_type": "markdown",
      "source": [
        "### Validate\n",
        "Validate - run test on you TM and show you for each test:\n",
        "\n",
        "*   The word he tested\n",
        "*   True/folse - if your TM pass or failed this test\n",
        "\n",
        "You can also choose the max length of the words\n",
        "\n",
        "You can also choose the number of random test you would like to validate.\n",
        "\n",
        "\n"
      ],
      "metadata": {
        "id": "wUnzPDXIiB5q"
      }
    },
    {
      "cell_type": "code",
      "source": [
        "#+validate(Turing_machine_name:string,function_obj,extreme_case:list<string>,test_count:int,max_input_length:int):boolean\n",
        "maxLen=5\n",
        "ranTestNum=100\n",
        "\n",
        "print(controller.validate({tmName1},lang,ranTestNum,maxLen))"
      ],
      "metadata": {
        "id": "DTAvsUMlipvr"
      },
      "execution_count": null,
      "outputs": []
    }
  ]
}