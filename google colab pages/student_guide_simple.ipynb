{
  "cells": [
    {
      "cell_type": "markdown",
      "source": [
        "# **First Install Package From Github**"
      ],
      "metadata": {
        "id": "i7DT8Hbic-CM"
      }
    },
    {
      "cell_type": "code",
      "source": [
        "!pip install \"git+https://github.com/Turing-Machine-Tutor/Turing-Machine-Tutor.git@main\""
      ],
      "metadata": {
        "colab": {
          "base_uri": "https://localhost:8080/"
        },
        "id": "oEp1yac_dIa4",
        "outputId": "090974af-d964-4bd9-be88-a79e924e5a97"
      },
      "execution_count": null,
      "outputs": [
        {
          "output_type": "stream",
          "name": "stdout",
          "text": [
            "Collecting git+https://github.com/Turing-Machine-Tutor/Turing-Machine-Tutor.git@last-fixes-iter1\n",
            "  Cloning https://github.com/Turing-Machine-Tutor/Turing-Machine-Tutor.git (to revision last-fixes-iter1) to /tmp/pip-req-build-n6jfeam_\n",
            "  Running command git clone --filter=blob:none --quiet https://github.com/Turing-Machine-Tutor/Turing-Machine-Tutor.git /tmp/pip-req-build-n6jfeam_\n",
            "  Running command git checkout -b last-fixes-iter1 --track origin/last-fixes-iter1\n",
            "  Switched to a new branch 'last-fixes-iter1'\n",
            "  Branch 'last-fixes-iter1' set up to track remote branch 'last-fixes-iter1' from 'origin'.\n",
            "  Resolved https://github.com/Turing-Machine-Tutor/Turing-Machine-Tutor.git to commit 66858bea89e94081b55c216b08b25add52aec8e8\n",
            "  Installing build dependencies ... \u001b[?25l\u001b[?25hdone\n",
            "  Getting requirements to build wheel ... \u001b[?25l\u001b[?25hdone\n",
            "  Preparing metadata (pyproject.toml) ... \u001b[?25l\u001b[?25hdone\n",
            "Building wheels for collected packages: TuringMachineLib\n",
            "  Building wheel for TuringMachineLib (pyproject.toml) ... \u001b[?25l\u001b[?25hdone\n",
            "  Created wheel for TuringMachineLib: filename=TuringMachineLib-0.0.0-py3-none-any.whl size=29026 sha256=178a91dee43d3a9a3fd8294e78267f57135e730b4c87f35ec77d6eb4c4160fb4\n",
            "  Stored in directory: /tmp/pip-ephem-wheel-cache-1axeleah/wheels/cf/a8/45/708f2e90f2402dc3a83ba2de053b012c46f4a684d68d2da16a\n",
            "Successfully built TuringMachineLib\n",
            "Installing collected packages: TuringMachineLib\n",
            "Successfully installed TuringMachineLib-0.0.0\n"
          ]
        }
      ]
    },
    {
      "cell_type": "markdown",
      "metadata": {
        "id": "gAHmt2TUZQXQ"
      },
      "source": [
        "# **Imports: dont touch**\n"
      ]
    },
    {
      "cell_type": "code",
      "execution_count": null,
      "metadata": {
        "id": "cxy9bqf8ZOnF"
      },
      "outputs": [],
      "source": [
        "from turing_machine_tutor.TuringMachine import TuringMachine\n",
        "from turing_machine_tutor.CombinedTuringMachine import CombinedTuringMachine\n",
        "from turing_machine_tutor.machine_run_state import Machine_Run_State\n",
        "from turing_machine_tutor.next import next\n",
        "from turing_machine_tutor.IFTuringMachine import IFTuringMachine\n",
        "from turing_machine_tutor.TuringMachineController import TuringMachineController\n",
        "\n",
        "controller = TuringMachineController()"
      ]
    },
    {
      "cell_type": "markdown",
      "metadata": {
        "id": "SdAlr7eKdTfc"
      },
      "source": [
        "# **For student**:"
      ]
    },
    {
      "cell_type": "markdown",
      "metadata": {
        "id": "zyJ5-YSCbnXE"
      },
      "source": [
        "Your main goal viewing all the availabe challenges and choosing one to work on.\n",
        "\n",
        "You can do that using the controller:\n",
        "\n",
        "**You don't need to define the function and to do add_challenge, this is done  by the TA, this is here just for the demonstration."
      ]
    },
    {
      "cell_type": "code",
      "execution_count": null,
      "metadata": {
        "id": "mppR8PSteRLB",
        "colab": {
          "base_uri": "https://localhost:8080/"
        },
        "outputId": "74179ab6-37b5-4bfa-fe79-3abd6da3e928"
      },
      "outputs": [
        {
          "output_type": "stream",
          "name": "stdout",
          "text": [
            "\n",
            "\n",
            "current available challenges:\n",
            "\n",
            "[1]turing machine name: 0n1n\n",
            "description: turing machine that accepts 0n1n\n",
            "\n"
          ]
        }
      ],
      "source": [
        "def is_0n1n(s):\n",
        "    if(len(s) < 2):\n",
        "        return False\n",
        "    elif(len(s) == 2 and s != \"01\"):\n",
        "        return False\n",
        "    elif(len(s) == 2 and s == \"01\"):\n",
        "        return True\n",
        "    st = s.split('01')\n",
        "    if(len(st) != 2):\n",
        "        return False\n",
        "    if(len(st[0]) != len(st[1])):\n",
        "        return False\n",
        "    for i in st[0]:\n",
        "        if i != '0':\n",
        "            return False\n",
        "    for i in st[1]:\n",
        "        if i != '1':\n",
        "            return False\n",
        "    return True\n",
        "\n",
        "controller.add_challenge(\"0n1n\",\"turing machine that accepts 0n1n\",is_0n1n,{\"02\",\"01\"});\n",
        "\n",
        "controller.get_challenges()"
      ]
    },
    {
      "cell_type": "markdown",
      "metadata": {
        "id": "7kiguzwTfwo6"
      },
      "source": [
        "You will choose which challenge you want to work on.\n",
        "\n",
        " Lets assume you want to work on 0n1n, your goal is to build a turing machine which language is 0n1n."
      ]
    },
    {
      "cell_type": "markdown",
      "metadata": {
        "id": "t54zrNvgf6GG"
      },
      "source": [
        "You need to use this format:\n",
        "\n",
        "\n",
        "    TuringMachine (\n",
        "\n",
        "    states:list<string>,\n",
        "\n",
        "    input_alphabet:list<string>,\n",
        "\n",
        "    tape_symbols:list<string>,\n",
        "\n",
        "    transitions:dict< tuple<string,string> , **next**>,\n",
        "\n",
        "    initial_state:string,\n",
        "\n",
        "    accept_states:list<string>\n",
        "\n",
        "    )\n",
        "\n",
        "**next is an object:\n",
        "\n",
        "    next(\n",
        "      \n",
        "        state:string\n",
        "\n",
        "        symbol:string\n",
        "\n",
        "        action:string\n",
        "\n",
        "      )\n",
        "\n",
        "\n",
        "\n",
        "In the code bellow there is an example of building a regular turing machine:\n",
        "\n",
        "**For clarity, this turing machine does not accept the language a^n b^n, you need to build it by yourself"
      ]
    },
    {
      "cell_type": "code",
      "execution_count": null,
      "metadata": {
        "id": "QRDOdjUrcNx-"
      },
      "outputs": [],
      "source": [
        "_0_pow_n_1_pow_n_TM = TuringMachine(\n",
        "            states={'q0', 'q1', 'q2', 'q3', 'q4', 'q5'},\n",
        "            input_alphabet={'0', '1'},\n",
        "            tape_symbols={'0', '1', 'X', 'Y', 'B'},\n",
        "            transitions={\n",
        "                ('q0', '0'): next('q1', 'X', 'R'),  # Step 1 change 0 to X\n",
        "                ('q0', 'Y'): next('q3', 'Y', 'R'),\n",
        "                ('q1', '0'): next('q1', '0', 'R'),\n",
        "                ('q1', '1'): next('q2', 'Y', 'L'),\n",
        "                ('q1', 'Y'): next('q1', 'Y', 'R'),\n",
        "                ('q2', '0'): next('q2', '0', 'L'),\n",
        "                ('q2', 'X'): next('q0', 'X', 'R'),\n",
        "                ('q2', 'Y'): next('q2', 'Y', 'L'),\n",
        "                ('q3', 'Y'): next('q3', 'Y', 'R'),\n",
        "                ('q3', 'B'): next('q4', 'B', 'L')\n",
        "            },\n",
        "            initial_state='q0',\n",
        "            accept_states={'q4'},\n",
        "            reject_states={'q5'}\n",
        "        )\n",
        "\n",
        "## after you build it you need to add it to the controller and give it the same name  that was given by the TA:\n",
        "\n",
        "controller.add_turing_machine('0n1n', _0_pow_n_1_pow_n_TM)\n",
        "\n"
      ]
    },
    {
      "cell_type": "markdown",
      "metadata": {
        "id": "7QIR5mMJmTE6"
      },
      "source": [
        "## Checking your TM.\n",
        "\n",
        "You have few options:\n",
        "\n"
      ]
    },
    {
      "cell_type": "markdown",
      "metadata": {
        "id": "bV3Z4AOkm9UI"
      },
      "source": [
        "#1) Run\n",
        "You can run a given word on the machine and see if it accepts or not, like this:\n",
        "\n",
        "controller.run_turing_machine(machine_name:string , word:string)"
      ]
    },
    {
      "cell_type": "code",
      "execution_count": null,
      "metadata": {
        "id": "FHAQpLI8m9UI",
        "colab": {
          "base_uri": "https://localhost:8080/"
        },
        "outputId": "2d03ca97-7e88-46bd-8aab-686d56877086"
      },
      "outputs": [
        {
          "output_type": "stream",
          "name": "stdout",
          "text": [
            "tape:= XXXXXYYYYYB\n",
            "accepted:= True\n"
          ]
        }
      ],
      "source": [
        "mrs = controller.run_turing_machine('0n1n', '0000011111')"
      ]
    },
    {
      "cell_type": "markdown",
      "metadata": {
        "id": "ncfnjTYjm9UI"
      },
      "source": [
        "**mrs is an object\n",
        "\n",
        "It displays the current run state of the machine, the machine's tape, the machine's head_position, and the machine's state ('q0', 'q1', etc.).\n",
        "\n",
        "**Note:** Don't get confused by the word \"state\". There is an object `machine_run_state` and a state like 'q0', 'q1', etc.\n",
        "\n",
        "\n",
        "    Machine_Run_State(\n",
        "    \n",
        "        tape:list<string>\n",
        "        head_position:int\n",
        "        state:string\n",
        "\n",
        "    )\n",
        "\n"
      ]
    },
    {
      "cell_type": "markdown",
      "metadata": {
        "id": "fAQQgfs8fz8R"
      },
      "source": [
        "# 2) Visualize\n",
        "\n",
        "You can visualize a given word on the machine and see your machine coming to life, you can do it like this:\n",
        "\n",
        "controller.visualize(machine_name:string , word:string)\n"
      ]
    },
    {
      "cell_type": "code",
      "execution_count": null,
      "metadata": {
        "id": "Fr6wW0yFj4Oo",
        "colab": {
          "base_uri": "https://localhost:8080/"
        },
        "outputId": "fc68f7e4-7dc8-4a0c-a0e6-c950bb12e1b2"
      },
      "outputs": [
        {
          "output_type": "stream",
          "name": "stdout",
          "text": [
            "reached accept state\n"
          ]
        }
      ],
      "source": [
        "controller.visualize('0n1n',\"000111\")"
      ]
    },
    {
      "cell_type": "markdown",
      "metadata": {
        "id": "OXzwfgr_kNRE"
      },
      "source": [
        "# 3) Visualize step by step (debugging)\n",
        "\n",
        "You can visualize STEP BY STEP a given word on the machine and observe EACH STEP as much as you want. Hitting enter will proceed to the next step, and if you've had enough, you can type 'stop' to stop. You can do it like this:\n",
        "\n",
        "\n",
        "controller.visualize_step_by_step(machine_name:string , word:string)"
      ]
    },
    {
      "cell_type": "code",
      "execution_count": null,
      "metadata": {
        "id": "Nrx3_8GVdka7",
        "colab": {
          "base_uri": "https://localhost:8080/"
        },
        "outputId": "2c241aee-c851-41c7-d353-3193c7eb41bc"
      },
      "outputs": [
        {
          "output_type": "stream",
          "name": "stdout",
          "text": [
            "Press Enter to continue or type 'stop' to end: \n",
            "reached accept state\n"
          ]
        }
      ],
      "source": [
        "\n",
        "controller.visualize_step_by_step('0n1n',\"01\")\n"
      ]
    },
    {
      "cell_type": "markdown",
      "metadata": {
        "id": "jlN3_AfHlUI_"
      },
      "source": [
        "# 4)Validate\n",
        "\n",
        "Validating your turing machine formally, and getting a feedback which tests you pass and which you failed.  You can do it like this:\n",
        "\n",
        "controller.validate_turing_machine(machine_name:string)\n"
      ]
    },
    {
      "cell_type": "code",
      "execution_count": null,
      "metadata": {
        "id": "xgQ6h4MClS1a"
      },
      "outputs": [],
      "source": [
        "controller.validate_turing_machine('0n1n',is_0n1n)\n"
      ]
    },
    {
      "cell_type": "code",
      "source": [
        "# Assume the TA added this to the challenges\n",
        "controller.validate_turing_machineTA('0n1n')"
      ],
      "metadata": {
        "id": "yMze7ikhpvXm"
      },
      "execution_count": null,
      "outputs": []
    },
    {
      "cell_type": "markdown",
      "source": [
        "# Submitting\n",
        "\n",
        "When you have finished working on your machines and want to submit, just call the function submit from the controller, it will ask you for your ID and your work will be submitted.\n",
        "\n",
        "controller.submit()\n"
      ],
      "metadata": {
        "id": "du5x-SwAivc7"
      }
    },
    {
      "cell_type": "code",
      "source": [
        "controller.submit()"
      ],
      "metadata": {
        "id": "JEvmQ_I4lGon"
      },
      "execution_count": null,
      "outputs": []
    }
  ],
  "metadata": {
    "colab": {
      "provenance": []
    },
    "kernelspec": {
      "display_name": "Python 3",
      "name": "python3"
    },
    "language_info": {
      "name": "python"
    }
  },
  "nbformat": 4,
  "nbformat_minor": 0
}