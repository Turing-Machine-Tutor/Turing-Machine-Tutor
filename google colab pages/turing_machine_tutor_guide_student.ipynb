{
  "cells": [
    {
      "cell_type": "markdown",
      "metadata": {
        "id": "i7DT8Hbic-CM"
      },
      "source": [
        "# **First Install Package From Github**"
      ]
    },
    {
      "cell_type": "code",
      "execution_count": null,
      "metadata": {
        "colab": {
          "base_uri": "https://localhost:8080/"
        },
        "id": "oEp1yac_dIa4",
        "outputId": "090974af-d964-4bd9-be88-a79e924e5a97"
      },
      "outputs": [
        {
          "name": "stdout",
          "output_type": "stream",
          "text": [
            "Collecting git+https://github.com/Turing-Machine-Tutor/Turing-Machine-Tutor.git@last-fixes-iter1\n",
            "  Cloning https://github.com/Turing-Machine-Tutor/Turing-Machine-Tutor.git (to revision last-fixes-iter1) to /tmp/pip-req-build-n6jfeam_\n",
            "  Running command git clone --filter=blob:none --quiet https://github.com/Turing-Machine-Tutor/Turing-Machine-Tutor.git /tmp/pip-req-build-n6jfeam_\n",
            "  Running command git checkout -b last-fixes-iter1 --track origin/last-fixes-iter1\n",
            "  Switched to a new branch 'last-fixes-iter1'\n",
            "  Branch 'last-fixes-iter1' set up to track remote branch 'last-fixes-iter1' from 'origin'.\n",
            "  Resolved https://github.com/Turing-Machine-Tutor/Turing-Machine-Tutor.git to commit 66858bea89e94081b55c216b08b25add52aec8e8\n",
            "  Installing build dependencies ... \u001b[?25l\u001b[?25hdone\n",
            "  Getting requirements to build wheel ... \u001b[?25l\u001b[?25hdone\n",
            "  Preparing metadata (pyproject.toml) ... \u001b[?25l\u001b[?25hdone\n",
            "Building wheels for collected packages: TuringMachineLib\n",
            "  Building wheel for TuringMachineLib (pyproject.toml) ... \u001b[?25l\u001b[?25hdone\n",
            "  Created wheel for TuringMachineLib: filename=TuringMachineLib-0.0.0-py3-none-any.whl size=29026 sha256=178a91dee43d3a9a3fd8294e78267f57135e730b4c87f35ec77d6eb4c4160fb4\n",
            "  Stored in directory: /tmp/pip-ephem-wheel-cache-1axeleah/wheels/cf/a8/45/708f2e90f2402dc3a83ba2de053b012c46f4a684d68d2da16a\n",
            "Successfully built TuringMachineLib\n",
            "Installing collected packages: TuringMachineLib\n",
            "Successfully installed TuringMachineLib-0.0.0\n"
          ]
        }
      ],
      "source": [
        "!pip install \"git+https://github.com/Turing-Machine-Tutor/Turing-Machine-Tutor.git@main\""
      ]
    },
    {
      "cell_type": "markdown",
      "metadata": {
        "id": "gAHmt2TUZQXQ"
      },
      "source": [
        "# **Imports: dont touch**\n"
      ]
    },
    {
      "cell_type": "code",
      "execution_count": null,
      "metadata": {
        "id": "cxy9bqf8ZOnF"
      },
      "outputs": [],
      "source": [
        "from turing_machine_tutor.TuringMachine import TuringMachine\n",
        "from turing_machine_tutor.CombinedTuringMachine import CombinedTuringMachine\n",
        "from turing_machine_tutor.machine_run_state import Machine_Run_State\n",
        "from turing_machine_tutor.next import next\n",
        "from turing_machine_tutor.IFTuringMachine import IFTuringMachine\n",
        "from turing_machine_tutor.TuringMachineController import TuringMachineController\n",
        "\n",
        "controller = TuringMachineController()"
      ]
    },
    {
      "cell_type": "markdown",
      "metadata": {
        "id": "SdAlr7eKdTfc"
      },
      "source": [
        "# **For student**:"
      ]
    },
    {
      "cell_type": "markdown",
      "metadata": {
        "id": "zyJ5-YSCbnXE"
      },
      "source": [
        "Your main goal viewing all the availabe challenges and choosing one to work on.\n",
        "\n",
        "You can do that using the controller:\n",
        "\n",
        "**You don't need to define the function and to do add_challenge, this is done  by the TA, this is here just for the demonstration."
      ]
    },
    {
      "cell_type": "code",
      "execution_count": null,
      "metadata": {
        "colab": {
          "base_uri": "https://localhost:8080/"
        },
        "id": "mppR8PSteRLB",
        "outputId": "74179ab6-37b5-4bfa-fe79-3abd6da3e928"
      },
      "outputs": [
        {
          "name": "stdout",
          "output_type": "stream",
          "text": [
            "\n",
            "\n",
            "current available challenges:\n",
            "\n",
            "[1]turing machine name: 0n1n\n",
            "description: turing machine that accepts 0n1n\n",
            "\n"
          ]
        }
      ],
      "source": [
        "def is_0n1n(s):\n",
        "    if(len(s) < 2):\n",
        "        return False\n",
        "    elif(len(s) == 2 and s != \"01\"):\n",
        "        return False\n",
        "    elif(len(s) == 2 and s == \"01\"):\n",
        "        return True\n",
        "    st = s.split('01')\n",
        "    if(len(st) != 2):\n",
        "        return False\n",
        "    if(len(st[0]) != len(st[1])):\n",
        "        return False\n",
        "    for i in st[0]:\n",
        "        if i != '0':\n",
        "            return False\n",
        "    for i in st[1]:\n",
        "        if i != '1':\n",
        "            return False\n",
        "    return True\n",
        "\n",
        "controller.add_challenge(\"0n1n\",{'0', '1'},\"turing machine that accepts 0n1n\",is_0n1n,{\"02\",\"01\"});\n",
        "\n",
        "controller.get_challenges()"
      ]
    },
    {
      "cell_type": "markdown",
      "metadata": {
        "id": "7kiguzwTfwo6"
      },
      "source": [
        "You will choose which challenge you want to work on.\n",
        "\n",
        " Lets assume you want to work on 0n1n, your goal is to build a turing machine which language is 0n1n\n",
        "\n",
        "You have 4 options:\n",
        "\n",
        "1) Regular turing machine.\n",
        "\n",
        "2) Combined turing machine.\n",
        "\n",
        "3) Combined turing machine with while condition.\n",
        "\n",
        "4) IF THEN ESLSE machine."
      ]
    },
    {
      "cell_type": "markdown",
      "metadata": {
        "id": "Mw0912uFfIV3"
      },
      "source": [
        "# **Option 1 - building a regular turing machine object**:"
      ]
    },
    {
      "cell_type": "markdown",
      "metadata": {
        "id": "t54zrNvgf6GG"
      },
      "source": [
        "You need to use this format:\n",
        "\n",
        "\n",
        "    TuringMachine (\n",
        "\n",
        "    states:list<string>,\n",
        "\n",
        "    input_alphabet:list<string>,\n",
        "\n",
        "    tape_symbols:list<string>,\n",
        "\n",
        "    transitions:dict< tuple<string,string> , **next**>,\n",
        "\n",
        "    initial_state:string,\n",
        "\n",
        "    accept_states:list<string>\n",
        "\n",
        "    )\n",
        "\n",
        "**next is an object:\n",
        "\n",
        "    next(\n",
        "      \n",
        "        state:string\n",
        "\n",
        "        symbol:string\n",
        "\n",
        "        action:string\n",
        "\n",
        "      )\n",
        "\n",
        "\n",
        "\n",
        "In the code bellow there is an example of building a regular turing machine:\n",
        "\n",
        "**For clarity, this turing machine does not accept the language a^n b^n, you need to build it by yourself"
      ]
    },
    {
      "cell_type": "code",
      "execution_count": null,
      "metadata": {
        "id": "QRDOdjUrcNx-"
      },
      "outputs": [],
      "source": [
        "_0_pow_n_1_pow_n_TM = TuringMachine(\n",
        "            states={'q0', 'q1', 'q2', 'q3', 'q4', 'q5'},\n",
        "            input_alphabet={'0', '1'},\n",
        "            tape_symbols={'0', '1', 'X', 'Y', 'B'},\n",
        "            transitions={\n",
        "                ('q0', '0'): next('q1', 'X', 'R'),  # Step 1 change 0 to X\n",
        "                ('q0', 'Y'): next('q3', 'Y', 'R'),\n",
        "                ('q1', '0'): next('q1', '0', 'R'),\n",
        "                ('q1', '1'): next('q2', 'Y', 'L'),\n",
        "                ('q1', 'Y'): next('q1', 'Y', 'R'),\n",
        "                ('q2', '0'): next('q2', '0', 'L'),\n",
        "                ('q2', 'X'): next('q0', 'X', 'R'),\n",
        "                ('q2', 'Y'): next('q2', 'Y', 'L'),\n",
        "                ('q3', 'Y'): next('q3', 'Y', 'R'),\n",
        "                ('q3', 'B'): next('q4', 'B', 'L')\n",
        "            },\n",
        "            initial_state='q0',\n",
        "            accept_states={'q4'},\n",
        "            reject_states={'q5'}\n",
        "        )\n",
        "\n",
        "## after you build it you need to add it to the controller and give it the same name  that was given by the TA:\n",
        "\n",
        "controller.add_turing_machine('0n1n', _0_pow_n_1_pow_n_TM)\n",
        "\n"
      ]
    },
    {
      "cell_type": "markdown",
      "metadata": {
        "id": "7QIR5mMJmTE6"
      },
      "source": [
        "## Checking your TM.\n",
        "\n",
        "You have few options:\n",
        "\n"
      ]
    },
    {
      "cell_type": "markdown",
      "metadata": {
        "id": "bV3Z4AOkm9UI"
      },
      "source": [
        "#1) Run\n",
        "You can run a given word on the machine and see if it accepts or not, like this:\n",
        "\n",
        "controller.run_turing_machine(machine_name:string , word:string)"
      ]
    },
    {
      "cell_type": "code",
      "execution_count": null,
      "metadata": {
        "colab": {
          "base_uri": "https://localhost:8080/"
        },
        "id": "FHAQpLI8m9UI",
        "outputId": "2d03ca97-7e88-46bd-8aab-686d56877086"
      },
      "outputs": [
        {
          "name": "stdout",
          "output_type": "stream",
          "text": [
            "tape:= XXXXXYYYYYB\n",
            "accepted:= True\n"
          ]
        }
      ],
      "source": [
        "mrs = controller.run_turing_machine('0n1n', '0000011111')"
      ]
    },
    {
      "cell_type": "markdown",
      "metadata": {
        "id": "ncfnjTYjm9UI"
      },
      "source": [
        "**mrs is an object\n",
        "\n",
        "It displays the current run state of the machine, the machine's tape, the machine's head_position, and the machine's state ('q0', 'q1', etc.).\n",
        "\n",
        "**Note:** Don't get confused by the word \"state\". There is an object `machine_run_state` and a state like 'q0', 'q1', etc.\n",
        "\n",
        "\n",
        "    Machine_Run_State(\n",
        "    \n",
        "        tape:list<string>\n",
        "        head_position:int\n",
        "        state:string\n",
        "\n",
        "    )\n",
        "\n"
      ]
    },
    {
      "cell_type": "markdown",
      "metadata": {
        "id": "fAQQgfs8fz8R"
      },
      "source": [
        "# 2) Visualize\n",
        "\n",
        "You can visualize a given word on the machine and see your machine coming to life, you can do it like this:\n",
        "\n",
        "controller.visualize(machine_name:string , word:string)\n"
      ]
    },
    {
      "cell_type": "code",
      "execution_count": null,
      "metadata": {
        "colab": {
          "base_uri": "https://localhost:8080/"
        },
        "id": "Fr6wW0yFj4Oo",
        "outputId": "fc68f7e4-7dc8-4a0c-a0e6-c950bb12e1b2"
      },
      "outputs": [
        {
          "name": "stdout",
          "output_type": "stream",
          "text": [
            "reached accept state\n"
          ]
        }
      ],
      "source": [
        "controller.visualize('0n1n',\"000111\")"
      ]
    },
    {
      "cell_type": "markdown",
      "metadata": {
        "id": "OXzwfgr_kNRE"
      },
      "source": [
        "# 3) Visualize step by step (debugging)\n",
        "\n",
        "You can visualize STEP BY STEP a given word on the machine and observe EACH STEP as much as you want. Hitting enter will proceed to the next step, and if you've had enough, you can type 'stop' to stop. You can do it like this:\n",
        "\n",
        "\n",
        "controller.visualize_step_by_step(machine_name:string , word:string)"
      ]
    },
    {
      "cell_type": "code",
      "execution_count": null,
      "metadata": {
        "colab": {
          "base_uri": "https://localhost:8080/"
        },
        "id": "Nrx3_8GVdka7",
        "outputId": "2c241aee-c851-41c7-d353-3193c7eb41bc"
      },
      "outputs": [
        {
          "name": "stdout",
          "output_type": "stream",
          "text": [
            "Press Enter to continue or type 'stop' to end: \n",
            "reached accept state\n"
          ]
        }
      ],
      "source": [
        "\n",
        "controller.visualize_step_by_step('0n1n',\"01\")\n"
      ]
    },
    {
      "cell_type": "markdown",
      "metadata": {
        "id": "jlN3_AfHlUI_"
      },
      "source": [
        "# 4)Validate\n",
        "\n",
        "Validating your turing machine formally, and getting a feedback which tests you pass and which you failed.  You can do it like this:\n",
        "\n",
        "controller.validate_turing_machine(machine_name:string)\n"
      ]
    },
    {
      "cell_type": "code",
      "execution_count": null,
      "metadata": {
        "id": "xgQ6h4MClS1a"
      },
      "outputs": [],
      "source": [
        "controller.validate_turing_machine('0n1n',is_0n1n)\n"
      ]
    },
    {
      "cell_type": "code",
      "execution_count": null,
      "metadata": {
        "id": "yMze7ikhpvXm"
      },
      "outputs": [],
      "source": [
        "# Assume the TA added this to the challenges\n",
        "controller.validate_turing_machineTA('0n1n')"
      ]
    },
    {
      "cell_type": "markdown",
      "metadata": {
        "id": "du5x-SwAivc7"
      },
      "source": [
        "# Submitting\n",
        "\n",
        "When you have finished working on your machines and want to submit, just call the function submit from the controller, it will ask you for your ID and your work will be submitted.\n",
        "\n",
        "controller.submit()\n"
      ]
    },
    {
      "cell_type": "code",
      "execution_count": null,
      "metadata": {
        "id": "10AMuq5PmiNK"
      },
      "outputs": [],
      "source": [
        "controller.submit()"
      ]
    },
    {
      "cell_type": "markdown",
      "metadata": {
        "id": "aY-QNYshnFfH"
      },
      "source": [
        "# **Option 2 - building a combined turing machine object**:\n",
        "If you have previously defined a Turing machine and you want to reuse it as a sub part of a bigger machine (concatenating machines).\n",
        "\n",
        "For example, let's say you want to make a Turing machine that gets as an input a word, the output will be converting the first encountered 0 to 1, and the first encountered 1 to 0.\n",
        "\n",
        "And you have previously implemented a machine that converts first encountered 0 to 1 and implemented a machine that converts first encountered 1 to 0.\n",
        "\n",
        "You can use these implementations again instead of starting all over like this:\n",
        "\n",
        "\n",
        "  \n"
      ]
    },
    {
      "cell_type": "markdown",
      "metadata": {
        "id": "v7l8GzXYqYVb"
      },
      "source": [
        "** don't forget to add it to the controller!!!!"
      ]
    },
    {
      "cell_type": "code",
      "execution_count": null,
      "metadata": {
        "id": "t1JKEPdXpgp-"
      },
      "outputs": [],
      "source": [
        "\n",
        "simple_turing_machine_1 = TuringMachine(  # this machine converts first encountered 0 to 1\n",
        "            states={'q0', 'q1', 'q2'},\n",
        "            input_alphabet={'0', '1','2'},\n",
        "            tape_symbols={'0', '1', 'B','2'},\n",
        "            transitions={\n",
        "                ('q0', '0'): next('q1', '1', 'R'),  # if encountered 0 put 1 and move right\n",
        "                ('q0', '1'): next('q0', '1', 'R'),  # if encountered 1 just move right\n",
        "                ('q0', 'B'): next('q1', 'B', 'S'),  # if encountered 1 just move right\n",
        "                ('q1', '0'): next('q1', '0', 'S'),  # after reaching q1 don't do anything\n",
        "                ('q1', '1'): next('q1', '1', 'S'),  # after reaching q1 don't do anything\n",
        "                ('q1', 'B'): next('q1', 'B', 'S'),  # after reaching q1 don't do anything\n",
        "            },\n",
        "            initial_state='q0',\n",
        "            accept_states={'q1'},\n",
        "            reject_states={'q2'}\n",
        "        )\n",
        "simple_turing_machine_2 = TuringMachine(# this machine converts first encountered 1 to 0\n",
        "            states={'q0', 'q1', 'q2'},\n",
        "            input_alphabet={'0', '1'},\n",
        "            tape_symbols={'0', '1', 'B'},\n",
        "            transitions={\n",
        "                ('q0', '0'): next('q0', '0', 'R'),  # if encountered 0 just move right\n",
        "                ('q0', '1'): next('q1', '0', 'R'),  # if encountered 1 put 0 and move right\n",
        "                ('q0', 'B'): next('q1', 'B', 'S'),\n",
        "                ('q1', '0'): next('q1', '0', 'S'),  # after reaching q1 don't do anything\n",
        "                ('q1', '1'): next('q1', '1', 'S'),  # after reaching q1 don't do anything\n",
        "                ('q1', 'B'): next('q1', 'B', 'S'),  # after reaching q1 don't do anything\n",
        "\n",
        "            },\n",
        "            initial_state='q0',\n",
        "            accept_states={'q1'},\n",
        "            reject_states={'q2'}\n",
        "        )\n",
        "\n",
        "combined_tm = CombinedTuringMachine({'0', '1'})\n",
        "combined_tm.add(\"step1\", simple_turing_machine_1)\n",
        "combined_tm.add(\"step2\", simple_turing_machine_2)\n",
        "\n",
        "####################important step!!!! dont forget!!!##########################\n",
        "controller.add_turing_machine('MyCombined',combined_tm)\n",
        "###############################################################################"
      ]
    },
    {
      "cell_type": "markdown",
      "metadata": {
        "id": "-JyvdaAEqt-F"
      },
      "source": [
        "## You Can Run, Visualize, and Check your combined TM.\n",
        "\n",
        "Excatly like the regular turing machine.\n"
      ]
    },
    {
      "cell_type": "code",
      "execution_count": null,
      "metadata": {
        "colab": {
          "base_uri": "https://localhost:8080/"
        },
        "id": "Q2IHi_Z0zDpm",
        "outputId": "a75e02f4-8e88-4b2c-8d33-ca3ece80e2e2"
      },
      "outputs": [
        {
          "name": "stdout",
          "output_type": "stream",
          "text": [
            "tape:= 100011\n",
            "accepted:= True\n"
          ]
        },
        {
          "data": {
            "text/plain": [
              "<turing_machine_tutor.machine_run_state.Machine_Run_State at 0x7f18fa544dc0>"
            ]
          },
          "execution_count": 46,
          "metadata": {},
          "output_type": "execute_result"
        }
      ],
      "source": [
        "controller.run_turing_machine('MyCombined', \"000111\")"
      ]
    },
    {
      "cell_type": "code",
      "execution_count": null,
      "metadata": {
        "colab": {
          "base_uri": "https://localhost:8080/"
        },
        "id": "3WPSNuyDzDX6",
        "outputId": "d1cf6410-2fa0-44ac-d60e-d008a607452f"
      },
      "outputs": [
        {
          "name": "stdout",
          "output_type": "stream",
          "text": [
            "reached accept state\n"
          ]
        }
      ],
      "source": [
        "controller.visualize('MyCombined',\"111000111\")"
      ]
    },
    {
      "cell_type": "markdown",
      "metadata": {
        "id": "pZ2DJNcMrebH"
      },
      "source": [
        "# **Option 3 - building a combined turing machine with while condition**:"
      ]
    },
    {
      "cell_type": "markdown",
      "metadata": {
        "id": "s4yj0ZA3y_nJ"
      },
      "source": [
        "\n",
        "Let's assume you want to implement a Turing machine that repeats specific steps until a certain condition is met. Achieving this in a regular or combined Turing machine can be sophisticated or impossible. You can approach this by:\n",
        "\n",
        "1.   Defining regular Turing machines for each step.\n",
        "2.   Defining a combined machine and adding steps to it.\n",
        "3.   Defining a regular machine for the while condition.\n",
        "\n",
        "For example, let's assume you want to make a Turing machine whose language is 0^n 1^n"
      ]
    },
    {
      "cell_type": "code",
      "execution_count": null,
      "metadata": {
        "id": "petPdzU1rrFI"
      },
      "outputs": [],
      "source": [
        "# language 0^n_1^n_2_0^n_1^n (2_0^n_1^n_2_0^n_1^n)*\n",
        "step1 = TuringMachine(\n",
        "            states={'q0', 'q1', 'q2', 'q3', 'q4', 'q5'},\n",
        "            input_alphabet={'0', '1', '2', 'X', 'Y', 'B','Z'},\n",
        "            tape_symbols={'0', '1', '2', 'X', 'Y', 'B','Z'},\n",
        "            transitions={\n",
        "                ('q0', '0'): next('q1', 'X', 'R'),  # Step 1 change 0 to X\n",
        "                ('q0', 'Y'): next('q3', 'Y', 'R'),\n",
        "                ('q1', '0'): next('q1', '0', 'R'),\n",
        "                ('q1', '1'): next('q2', 'Y', 'L'),\n",
        "                ('q1', 'Y'): next('q1', 'Y', 'R'),\n",
        "                ('q2', '0'): next('q2', '0', 'L'),\n",
        "                ('q2', 'X'): next('q0', 'X', 'R'),\n",
        "                ('q2', 'Y'): next('q2', 'Y', 'L'),\n",
        "                ('q3', 'Y'): next('q3', 'Y', 'R'),\n",
        "                ('q3', 'B'): next('q4', 'B', 'S'),\n",
        "\n",
        "                ('q3', '2'): next('q4', '2', 'S')\n",
        "            },\n",
        "            initial_state='q0',\n",
        "            accept_states={'q4'},\n",
        "            reject_states={'q5'}\n",
        "        )\n",
        "cond = TuringMachine( #current head pos equals 0\n",
        "            states={'q0', 'q1', 'q2', 'q3'},\n",
        "            input_alphabet={'0', '1','2' , 'X', 'Y', 'B','Z'},\n",
        "            tape_symbols={'0', '1','2', 'X', 'Y', 'B','Z'},\n",
        "            transitions={\n",
        "                ('q0', 'X'): next('q0', 'X', 'R'),\n",
        "                ('q0', 'Y'): next('q0', 'Y', 'R'),\n",
        "                ('q0', '2'): next('q2', 'Z', 'R'),\n",
        "                ('q0', 'Z'): next('q0', 'Z', 'R')\n",
        "            },\n",
        "            initial_state='q0',\n",
        "            accept_states={'q2'},\n",
        "            reject_states={'q3'}\n",
        "        )\n",
        "\n"
      ]
    },
    {
      "cell_type": "markdown",
      "metadata": {
        "id": "71zoL4BB0s63"
      },
      "source": [
        "This is equivalent to:\n",
        "\n",
        "    do\n",
        "    {\n",
        "              step1\n",
        "              step2\n",
        "              step3\n",
        "              step4\n",
        "              \n",
        "    } while(while_condition_machine)"
      ]
    },
    {
      "cell_type": "markdown",
      "metadata": {
        "id": "tfUTDTsL1Jvk"
      },
      "source": [
        "Combined all the steps in one machine:"
      ]
    },
    {
      "cell_type": "code",
      "execution_count": null,
      "metadata": {
        "id": "eJpS4J_e1IxK"
      },
      "outputs": [],
      "source": [
        "combined_tm = CombinedTuringMachine({'0', '1', '2'})\n",
        "combined_tm.add('find_a_n_b_n', step1)\n",
        "#combined_tm.add('Move Left to Leftmost 0', step4)\n",
        "\n",
        "#you want to repeat steps number 01 until no more 2 remain in the tape\n",
        "combined_tm.setTuringMachineWhileCondition(\"2 still in tape\", cond)\n",
        "####################important step!!!! dont forget!!!##########################\n",
        "controller.add_turing_machine('WhileCombined',combined_tm)\n",
        "###############################################################################"
      ]
    },
    {
      "cell_type": "markdown",
      "metadata": {
        "id": "HQog3kqx1O5C"
      },
      "source": [
        "## You Can Run, Visualize, and Check your combined TM with While Condition.\n",
        "\n",
        "Excatly like it was described previously.\n",
        "\n",
        "\n",
        "\n",
        "\n",
        "\n"
      ]
    },
    {
      "cell_type": "code",
      "execution_count": null,
      "metadata": {
        "colab": {
          "base_uri": "https://localhost:8080/"
        },
        "id": "jiywgzf7z3WO",
        "outputId": "aef7c24d-5b63-4482-d80d-9e9c135aee4b"
      },
      "outputs": [
        {
          "name": "stdout",
          "output_type": "stream",
          "text": [
            "tape:= XXYYZXXYYB\n",
            "accepted:= True\n"
          ]
        },
        {
          "data": {
            "text/plain": [
              "<turing_machine_tutor.machine_run_state.Machine_Run_State at 0x7f191f58b370>"
            ]
          },
          "execution_count": 51,
          "metadata": {},
          "output_type": "execute_result"
        }
      ],
      "source": [
        "controller.run_turing_machine('WhileCombined', \"001120011\")"
      ]
    },
    {
      "cell_type": "code",
      "execution_count": null,
      "metadata": {
        "colab": {
          "base_uri": "https://localhost:8080/"
        },
        "id": "LA7qgiPi0Gaw",
        "outputId": "8f755761-e29d-45ad-83b6-ec3f736c6be8"
      },
      "outputs": [
        {
          "name": "stdout",
          "output_type": "stream",
          "text": [
            "reached reject state\n"
          ]
        }
      ],
      "source": [
        "controller.visualize('WhileCombined',\"01201\")"
      ]
    },
    {
      "cell_type": "markdown",
      "metadata": {
        "id": "9zYtNrvb1AJN"
      },
      "source": [
        "Notice that the word is accepted only if the last TM in the Combined Accepts it, and The Combined TM with While Condition will halt when the While Condition TM Rejects the input. (as long as it accepts the input it will continue to iterate through the combined list)"
      ]
    },
    {
      "cell_type": "code",
      "execution_count": null,
      "metadata": {
        "id": "T2t9TbIh2SH-"
      },
      "outputs": [],
      "source": [
        "def checkMyWhileCombined(input_str):\n",
        "    if(len(input_str) == 0):\n",
        "      return False\n",
        "    if('2' in input_str):\n",
        "      l = input_str.split('2')\n",
        "      for i in l:\n",
        "        if not is_0n1n(i):\n",
        "          return False\n",
        "    else:\n",
        "      result = is_0n1n(input_str)\n",
        "      if result:\n",
        "        return True\n",
        "      else:\n",
        "        return False\n",
        "\n",
        "controller.validate_turing_machine('WhileCombined', checkMyWhileCombined)"
      ]
    },
    {
      "cell_type": "markdown",
      "metadata": {
        "id": "HqKy1qz2co2F"
      },
      "source": [
        "# **Option 4 - building an IF turing machine**:"
      ]
    },
    {
      "cell_type": "markdown",
      "metadata": {
        "id": "gL4YHoSdc0N3"
      },
      "source": [
        "You can create if then else statment using IFTuringMachine, example:\n",
        "\n",
        "If you want to make a turing machine that does the following: if the input length is < 4 change every 0 to 1 otherwise change every 1 to 0.\n",
        "\n",
        "You can implement that easly using the object IFTuringMachine:"
      ]
    },
    {
      "cell_type": "code",
      "execution_count": null,
      "metadata": {
        "id": "Nc9csnnfc7a4"
      },
      "outputs": [],
      "source": [
        "ifTm = TuringMachine( # condition if input legth is less than 4 accept else reject\n",
        "    states={'q0', 'q1', 'q2', 'q3', 'q4', 'q5', 'q6'},\n",
        "    input_alphabet={'0', '1'},\n",
        "    tape_symbols={'0', '1', 'B'},\n",
        "    transitions={\n",
        "        ('q0', '0'): next('q1', '0', 'R'),\n",
        "        ('q0', '1'): next('q1', '1', 'R'),\n",
        "\n",
        "        ('q1', '0'): next('q2', '0', 'R'),\n",
        "        ('q1', '1'): next('q2', '1', 'R'),\n",
        "\n",
        "        ('q2', '0'): next('q3', '0', 'R'),\n",
        "        ('q2', '1'): next('q3', '0', 'R'),\n",
        "\n",
        "        ('q3', '0'): next('q6', '0', 'R'),\n",
        "        ('q3', '1'): next('q6', '1', 'R'),\n",
        "        ('q3', 'B'): next('q5', 'B', 'S')\n",
        "    },\n",
        "    initial_state='q0',\n",
        "    accept_states={'q5'},\n",
        "    reject_states={'q6'}\n",
        ")\n",
        "\n",
        "thenTm = TuringMachine( # condition if input legth is less than 4 change every 1 to 0\n",
        "    states={'q0', 'q1', 'q2'},\n",
        "    input_alphabet={'0', '1'},\n",
        "    tape_symbols={'0', '1', 'B'},\n",
        "    transitions={\n",
        "        ('q0', '0'): next('q0', '0', 'R'),\n",
        "        ('q0', '1'): next('q0', '0', 'R'),\n",
        "        ('q0', 'B'): next('q1', 'B', 'R')\n",
        "    },\n",
        "    initial_state='q0',\n",
        "    accept_states={'q1'},\n",
        "    reject_states={'q2'}\n",
        ")\n",
        "\n",
        "elseTm = TuringMachine( # condition if input legth is less than 4 change every 0 to 1\n",
        "    states={'q0', 'q1', 'q2'},\n",
        "    input_alphabet={'0', '1'},\n",
        "    tape_symbols={'0', '1', 'B'},\n",
        "    transitions={\n",
        "        ('q0', '0'): next('q0', '1', 'R'),\n",
        "        ('q0', '1'): next('q0', '1', 'R'),\n",
        "        ('q0', 'B'): next('q1', 'B', 'R')\n",
        "    },\n",
        "    initial_state='q0',\n",
        "    accept_states={'q1'},\n",
        "    reject_states={'q2'}\n",
        ")\n",
        "\n",
        "\n",
        "CondTM = IFTuringMachine()\n",
        "CondTM.setIfTM(ifTm, \"myIf\")\n",
        "CondTM.setThenTM(thenTm,\"mythen\")\n",
        "CondTM.setElseTM(elseTm,\"myelse\")\n",
        "\n",
        "controller.add_turing_machine(\"mycondTM\", CondTM)\n"
      ]
    },
    {
      "cell_type": "markdown",
      "metadata": {
        "id": "oJn3cp7IunsX"
      },
      "source": [
        "## You Can Run, Visualize, and Check your IF TM.\n",
        "\n",
        "Excatly like it was described previously.\n",
        "\n",
        "\n",
        "\n",
        "\n",
        "\n"
      ]
    },
    {
      "cell_type": "code",
      "execution_count": null,
      "metadata": {
        "colab": {
          "base_uri": "https://localhost:8080/"
        },
        "id": "MTkYhtRAfgxv",
        "outputId": "d8b23d37-deb8-424c-a417-2e3f16849324"
      },
      "outputs": [
        {
          "name": "stdout",
          "output_type": "stream",
          "text": [
            "tape:= 000BB\n",
            "accepted:= True\n"
          ]
        },
        {
          "data": {
            "text/plain": [
              "<turing_machine_tutor.machine_run_state.Machine_Run_State at 0x7f18fa528670>"
            ]
          },
          "execution_count": 56,
          "metadata": {},
          "output_type": "execute_result"
        }
      ],
      "source": [
        "controller.run_turing_machine(\"mycondTM\", \"001\") # input length less than 4"
      ]
    },
    {
      "cell_type": "code",
      "execution_count": null,
      "metadata": {
        "colab": {
          "base_uri": "https://localhost:8080/"
        },
        "id": "pG9_dql_fozt",
        "outputId": "49b7589b-38b1-45fd-ef3b-ab535aadf8b8"
      },
      "outputs": [
        {
          "name": "stdout",
          "output_type": "stream",
          "text": [
            "tape:= 111111BB\n",
            "accepted:= True\n"
          ]
        },
        {
          "data": {
            "text/plain": [
              "<turing_machine_tutor.machine_run_state.Machine_Run_State at 0x7f18fa52be20>"
            ]
          },
          "execution_count": 57,
          "metadata": {},
          "output_type": "execute_result"
        }
      ],
      "source": [
        "controller.run_turing_machine(\"mycondTM\", \"001011\") # input length greater than 4"
      ]
    },
    {
      "cell_type": "code",
      "execution_count": null,
      "metadata": {
        "colab": {
          "base_uri": "https://localhost:8080/"
        },
        "id": "9VyDUMFwf7qE",
        "outputId": "ee656cd4-a078-4c06-83ed-0842b3da2601"
      },
      "outputs": [
        {
          "name": "stdout",
          "output_type": "stream",
          "text": [
            "reached accept state\n"
          ]
        }
      ],
      "source": [
        "controller.visualize(\"mycondTM\", \"001011\")"
      ]
    }
  ],
  "metadata": {
    "colab": {
      "provenance": []
    },
    "kernelspec": {
      "display_name": "Python 3",
      "name": "python3"
    },
    "language_info": {
      "name": "python"
    }
  },
  "nbformat": 4,
  "nbformat_minor": 0
}
