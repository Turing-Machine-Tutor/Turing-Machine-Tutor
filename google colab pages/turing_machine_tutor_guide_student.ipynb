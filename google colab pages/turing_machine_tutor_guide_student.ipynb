{
  "cells": [
    {
      "cell_type": "markdown",
      "metadata": {
        "id": "gAHmt2TUZQXQ"
      },
      "source": [
        "# **Imports: dont touch**"
      ]
    },
    {
      "cell_type": "code",
      "execution_count": null,
      "metadata": {
        "id": "cxy9bqf8ZOnF"
      },
      "outputs": [],
      "source": [
        "import TuringMachingLibrary as turLib\n",
        "\n",
        "controller = TuringMachinController()"
      ]
    },
    {
      "cell_type": "markdown",
      "metadata": {
        "id": "SdAlr7eKdTfc"
      },
      "source": [
        "# **For student**:"
      ]
    },
    {
      "cell_type": "markdown",
      "metadata": {
        "id": "zyJ5-YSCbnXE"
      },
      "source": [
        "your main goal viewing all the availabe challenges and choosing one to work on.\n",
        "\n",
        "you can do that using the controller:"
      ]
    },
    {
      "cell_type": "code",
      "execution_count": null,
      "metadata": {
        "id": "mppR8PSteRLB"
      },
      "outputs": [],
      "source": [
        "controller.get_challenges()"
      ]
    },
    {
      "cell_type": "markdown",
      "metadata": {
        "id": "pQ8mAZvhegan"
      },
      "source": [
        "this will be the output:\n",
        "\n",
        "\n",
        "\n",
        "current available challenges:\n",
        "\n",
        "[1]turing machine name: 0n1n\n",
        "\n",
        "description: turing machine that accepts 0n1n\n",
        "\n",
        "[2]turing machine name: name_1\n",
        "\n",
        "description: description_1\n",
        "\n",
        "[3]turing machine name: name_2\n",
        "\n",
        "description: description_2\n",
        "\n"
      ]
    },
    {
      "cell_type": "markdown",
      "metadata": {
        "id": "7kiguzwTfwo6"
      },
      "source": [
        "you will choose which one you want to work on.\n",
        "\n",
        " lets assume you want to work on 0n1n, your goal is to build a turing machine which language is 0n1n\n",
        "\n",
        "you have 3 options,\n",
        "\n",
        "1) regular turing machine.\n",
        "\n",
        "2) combined turing machine.\n",
        "\n",
        "3)combined turing machine with while condition."
      ]
    },
    {
      "cell_type": "markdown",
      "metadata": {
        "id": "Mw0912uFfIV3"
      },
      "source": [
        "# **option 1 - building a regular turing machine object**:"
      ]
    },
    {
      "cell_type": "markdown",
      "metadata": {
        "id": "t54zrNvgf6GG"
      },
      "source": [
        "you need to use this format:\n",
        "\n",
        "\n",
        "TuringMachine (\n",
        "\n",
        "    states:list<string>,\n",
        "\n",
        "    input_alphabet:list<string>,\n",
        "\n",
        "    tape_symbols:list<string>,\n",
        "\n",
        "    blank:string,\n",
        "\n",
        "    transitions:dict< tuple<string,string> , **Configuration**>,\n",
        "\n",
        "    initial_state:string,\n",
        "\n",
        "    accept_states:list<string>\n",
        "\n",
        ")\n",
        "\n",
        "**Configuration is an object:\n",
        "\n",
        "Configuration(\n",
        "\n",
        "  state:string\n",
        "\n",
        "  symbol:string\n",
        "\n",
        "  action:string\n",
        "\n",
        ")\n",
        "\n",
        "\n",
        "\n",
        "in the code bellow there is an example of building a regular turing machine:\n",
        "\n",
        "**for clarity, this turing machine does not accept the language a^n b^n, you need to build it by yourself"
      ]
    },
    {
      "cell_type": "code",
      "execution_count": null,
      "metadata": {
        "id": "QRDOdjUrcNx-"
      },
      "outputs": [],
      "source": [
        "my_turing_machine = TuringMachine(\n",
        "    states={'q0', 'q1', 'q2', 'q3'},\n",
        "    input_alphabet={'0', '1'},\n",
        "    tape_symbols={'0', '1', 'B'},\n",
        "    blank = 'B',\n",
        "    transitions={\n",
        "        ('q0', '0'): Configuration('q1', '0', 'R'),\n",
        "        ('q0', '1'): Configuration('q1', '1', 'R'),\n",
        "        ('q1', '0'): Configuration('q0', '0', 'R'),\n",
        "        ('q1', '1'): Configuration('q0', '1', 'R'),\n",
        "        ('q0', 'B'): Configuration('q3', 'B', 'R'),\n",
        "        ('q1', 'B'): Configuration('q2', 'B', 'R'),\n",
        "    },\n",
        "    initial_state='q0',\n",
        "    accept_states={'q3'}\n",
        ")\n",
        "\n",
        "## after you build it you need to add it to the controller and give it the same name  that was given by the TA:\n",
        "\n",
        "controller.add_turing_machine('0n1n', my_turing_machine)\n",
        "\n"
      ]
    },
    {
      "cell_type": "markdown",
      "metadata": {
        "id": "7QIR5mMJmTE6"
      },
      "source": [
        "## Checking your TM.\n",
        "\n",
        "you have few options\n",
        "\n"
      ]
    },
    {
      "cell_type": "markdown",
      "metadata": {
        "id": "bV3Z4AOkm9UI"
      },
      "source": [
        "#1) Run\n",
        "you can run a given word on the machine and see if it accepts or not, like this:\n",
        "\n",
        "controller.run_turing_machine(machine_name:string , word:string)"
      ]
    },
    {
      "cell_type": "code",
      "execution_count": null,
      "metadata": {
        "id": "FHAQpLI8m9UI"
      },
      "outputs": [],
      "source": [
        "mrs= controller.run_turing_machine('0n1n', '0000011111')\n",
        "print(anbn_turing_machine.given_state_is_in_acceptance(mrs.state))"
      ]
    },
    {
      "cell_type": "markdown",
      "metadata": {
        "id": "ncfnjTYjm9UI"
      },
      "source": [
        "**mrs is an object\n",
        "\n",
        "it which displays the current run state of the machine , the machine's tape , the machine's head_position and the machine's state ('q0','q1'....)\n",
        "\n",
        "** dont get confused by the word state , there is an object machine_run_state and a state like 'q0' , 'q1'...\n",
        "\n",
        "  Machine_Run_State(\n",
        "    \n",
        "        tape:list<string>\n",
        "        head_position:int\n",
        "        state:string\n",
        "\n",
        "  )\n",
        "\n"
      ]
    },
    {
      "cell_type": "markdown",
      "metadata": {
        "id": "fAQQgfs8fz8R"
      },
      "source": [
        "# 2) visualize\n",
        "\n",
        "you can visualize a given word on the machine and see your machine coming to life, you can do it like this:\n",
        "\n",
        "controller.visualize(machine_name:string , word:string)\n"
      ]
    },
    {
      "cell_type": "code",
      "execution_count": null,
      "metadata": {
        "id": "Fr6wW0yFj4Oo"
      },
      "outputs": [],
      "source": [
        "controller.visualize('0n1n',\"01\")"
      ]
    },
    {
      "cell_type": "markdown",
      "metadata": {
        "id": "OXzwfgr_kNRE"
      },
      "source": [
        "# 3) visualize step by step (debugging)\n",
        "\n",
        "visualize was too fast? ,  you can visualize step by step a given word on the machine and observe each step as much as you want - hitting enter will proceed to the next step, and if you had enough you can type 'stop' to stop, you can do it like this:\n",
        "\n",
        "controller.visualize_step_by_step(machine_name:string , word:string)"
      ]
    },
    {
      "cell_type": "code",
      "execution_count": null,
      "metadata": {
        "id": "Nrx3_8GVdka7"
      },
      "outputs": [],
      "source": [
        "controller.visualize_step_by_step('0n1n',\"01\")\n"
      ]
    },
    {
      "cell_type": "markdown",
      "metadata": {
        "id": "jlN3_AfHlUI_"
      },
      "source": [
        "# 4)validate\n",
        "\n",
        "validating your turing machine formally, and getting a feedback which tests you pass and which you failed.  you can do it like this:\n",
        "\n",
        "controller.validate_turing_machine(machine_name:string)\n"
      ]
    },
    {
      "cell_type": "code",
      "execution_count": null,
      "metadata": {
        "id": "xgQ6h4MClS1a"
      },
      "outputs": [],
      "source": [
        "controller.validate_turing_machine('0n1n')\n"
      ]
    },
    {
      "cell_type": "markdown",
      "metadata": {
        "id": "aY-QNYshnFfH"
      },
      "source": [
        "# **option 2 - building a combined turing machine object**:\n",
        "\n",
        "if you have previously defined a turing machine and you want to reuse it as a sub part of a bigger machine (concating machines) you can do it like this:\n",
        "\n",
        "machine_1= TuringMachine(...) **as described previously\n",
        "\n",
        "machine_2= TuringMachine(...) **as described previously\n",
        "\n",
        "combined_machine=CombinedTuringMachine (input_alphabet:list<string>)\n",
        "\n",
        "combined_machine.add(machine_1)\n",
        "\n",
        "combined_machine.add(machine_2)\n",
        "\n",
        "\n",
        "for example lets say you want to make a turing machine for the language:\n",
        "\n",
        "\n",
        "\n",
        "a (input_alphabet)* b - all the words that start with a and end with b\n",
        "\n",
        "and you have previously implemented a machine that accepts a language which words are strings that start with a.\n",
        "and implemented a machine that accepts a language which words are strings that end with b\n",
        "\n",
        "you can use these implementations again instead of starting all over like this:\n",
        "\n",
        "  \n"
      ]
    },
    {
      "cell_type": "markdown",
      "metadata": {
        "id": "v7l8GzXYqYVb"
      },
      "source": [
        "** don't forget to add it to the controller!!!!"
      ]
    },
    {
      "cell_type": "code",
      "execution_count": null,
      "metadata": {
        "id": "t1JKEPdXpgp-"
      },
      "outputs": [],
      "source": [
        "##this is not a correct machine, it is just an example\n",
        "start_with_a_machine=TuringMachine(\n",
        "    states={'q0', 'q1', 'q2', 'q3'},\n",
        "    input_alphabet={'0', '1'},\n",
        "    tape_symbols={'0', '1', 'B'},\n",
        "    blank = 'B',\n",
        "    transitions={\n",
        "        ('q0', '0'): Configuration('q1', '0', 'R'),\n",
        "        ('q0', '1'): Configuration('q1', '1', 'R'),\n",
        "        ('q1', '0'): Configuration('q0', '0', 'R'),\n",
        "        ('q1', '1'): Configuration('q0', '1', 'R'),\n",
        "        ('q0', 'B'): Configuration('q3', 'B', 'R'),\n",
        "        ('q1', 'B'): Configuration('q2', 'B', 'R'),\n",
        "    },\n",
        "    initial_state='q0',\n",
        "    accept_states={'q3'}\n",
        ")\n",
        "\n",
        "##this is not a correct machine, it is just an example\n",
        "end_with_b_machine=TuringMachine(\n",
        "    states={'q0', 'q1', 'q2', 'q3'},\n",
        "    input_alphabet={'0', '1'},\n",
        "    tape_symbols={'0', '1', 'B'},\n",
        "    blank = 'B',\n",
        "    transitions={\n",
        "        ('q0', '0'): Configuration('q1', '0', 'R'),\n",
        "        ('q0', '1'): Configuration('q1', '1', 'R'),\n",
        "        ('q1', '0'): Configuration('q0', '0', 'R'),\n",
        "        ('q1', '1'): Configuration('q0', '1', 'R'),\n",
        "        ('q0', 'B'): Configuration('q3', 'B', 'R'),\n",
        "        ('q1', 'B'): Configuration('q2', 'B', 'R'),\n",
        "    },\n",
        "    initial_state='q0',\n",
        "    accept_states={'q3'}\n",
        ")\n",
        "\n",
        "combined_machine=CombinedTuringMachine (input_alphabet:list<string>)\n",
        "\n",
        "combined_machine.add(machine_1)\n",
        "\n",
        "combined_machine.add(machine_2)\n",
        "\n",
        "####################important step!!!! dont forget!!!##########################\n",
        "controller.add_turing_machine('combined_machine_name',combined_tm)\n",
        "###############################################################################"
      ]
    },
    {
      "cell_type": "markdown",
      "metadata": {
        "id": "-JyvdaAEqt-F"
      },
      "source": [
        "## Checking your combined TM.\n",
        "\n",
        "excatly like the regular turing machine only option 3 - visualize step by step is different:\n"
      ]
    },
    {
      "cell_type": "code",
      "execution_count": null,
      "metadata": {
        "id": "fkjayFoYq16S"
      },
      "outputs": [],
      "source": [
        "controller.visualize_combined_machine_step_by_step('combined_machine_name',\"ab\")"
      ]
    },
    {
      "cell_type": "markdown",
      "metadata": {
        "id": "pZ2DJNcMrebH"
      },
      "source": [
        "# **option 3 - building a combined turing machine with while condition**:"
      ]
    },
    {
      "cell_type": "markdown",
      "metadata": {
        "id": "s4yj0ZA3y_nJ"
      },
      "source": [
        "lets assume that you want to implement a turing machine that does specific steps over and over again untill something happens, doing so in a regular or combined turing machine can be sophiscated or impossible, you can do so like this:\n",
        "\n",
        "defining regular turing machines for each step, then defining a combined machine and add steps to it, then define a regular machine for the while conidtion:\n",
        "\n",
        "for example, lets assume you want to make a turing machine which language is 0^n 1^n\n",
        "\n"
      ]
    },
    {
      "cell_type": "code",
      "execution_count": null,
      "metadata": {
        "id": "petPdzU1rrFI"
      },
      "outputs": [],
      "source": [
        "step1 = TuringMachine(...) # Step 1 changes 0 to X\n",
        "step2=TuringMachine(...)  # Step 2 move right to the first 1\n",
        "step3=TuringMachine(...) # Step 3 change 1 to Y\n",
        "step4=TuringMachine(...) # Step 4 Move Left to Leftmost 0\n",
        "\n",
        "#you want to repeat steps number 01 to 04 until no more 0 and 1 remain in the input tape\n",
        "\n",
        "while_condition_machine = TuringMachine(...)# Step 6 checks if all turing machine tape is X and Y ( there is no 1 and 0 left on the tape)"
      ]
    },
    {
      "cell_type": "markdown",
      "metadata": {
        "id": "71zoL4BB0s63"
      },
      "source": [
        "this is equivalent to:\n",
        "\n",
        "    while(!while_condition_machine)\n",
        "    {\n",
        "              step1\n",
        "              step2\n",
        "              step3\n",
        "              step4\n",
        "    }"
      ]
    },
    {
      "cell_type": "markdown",
      "metadata": {
        "id": "tfUTDTsL1Jvk"
      },
      "source": [
        "combined all the steps in one machine:"
      ]
    },
    {
      "cell_type": "code",
      "execution_count": null,
      "metadata": {
        "id": "eJpS4J_e1IxK"
      },
      "outputs": [],
      "source": [
        "combined_tm = CombinedTuringMachine({'0', '1'})\n",
        "combined_tm.add('step1', step1)\n",
        "combined_tm.add('step2', step2)\n",
        "combined_tm.add('step3', step3)\n",
        "combined_tm.add('step4', step4)\n",
        "\n",
        "\n",
        "####################important step!!!! dont forget!!!##########################\n",
        "controller.add_turing_machine('0n_1n_combined_machine_name',combined_tm)\n",
        "###############################################################################"
      ]
    },
    {
      "cell_type": "markdown",
      "metadata": {
        "id": "HQog3kqx1O5C"
      },
      "source": [
        "## Checking your combined Turing machine with while condition.\n",
        "\n",
        "excatly like described previously but the function name and arguments are different:\n",
        "\n",
        "controller.run_turing_machine_with_while_condition(word:string,while_condition_machine:TurinMachine,name_of_your_combined_machine:string)\n",
        "\n",
        "controller.visualize_with_while_condition_machine(word:string,while_condition_machine:TurinMachine,name_of_your_combined_machine:string)\n",
        "\n",
        "controller.validate_combined_turing_machine_with_while_condition(name_of_your_combined_machine:string,while_condition_machine:TurinMachine)\n",
        "\n",
        "\n",
        "\n"
      ]
    },
    {
      "cell_type": "code",
      "execution_count": null,
      "metadata": {
        "id": "T2t9TbIh2SH-"
      },
      "outputs": [],
      "source": [
        "\n",
        "\n",
        "mrs=controller.run_turing_machine_with_while_condition(\"0011\",while_condition_machine,'0n_1n_combined_machine_name') ##running a single word\n",
        "print(step6.given_state_is_in_acceptance(mrs.state))\n",
        "\n",
        "controller.visualize_with_while_condition_machine(\"0011\",while_condition_machine,'0n_1n_combined_machine_name') ## visualize a run on a word\n",
        "\n",
        "controller.validate_combined_turing_machine_with_while_condition('0n_1n_combined_machine_name',while_condition_machine)##validate my given machine\n"
      ]
    }
  ],
  "metadata": {
    "colab": {
      "collapsed_sections": [
        "Mw0912uFfIV3",
        "bV3Z4AOkm9UI",
        "fAQQgfs8fz8R",
        "OXzwfgr_kNRE"
      ],
      "provenance": []
    },
    "kernelspec": {
      "display_name": "Python 3",
      "name": "python3"
    },
    "language_info": {
      "name": "python"
    }
  },
  "nbformat": 4,
  "nbformat_minor": 0
}
